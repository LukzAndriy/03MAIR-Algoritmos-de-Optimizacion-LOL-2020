{
  "nbformat": 4,
  "nbformat_minor": 0,
  "metadata": {
    "colab": {
      "name": "Algoritmo Clase 1",
      "provenance": [],
      "authorship_tag": "ABX9TyNFDq6A5eP0QX3IHRrZa2Lz",
      "include_colab_link": true
    },
    "kernelspec": {
      "name": "python3",
      "display_name": "Python 3"
    }
  },
  "cells": [
    {
      "cell_type": "markdown",
      "metadata": {
        "id": "view-in-github",
        "colab_type": "text"
      },
      "source": [
        "<a href=\"https://colab.research.google.com/github/LukzAndriy/03MAIR-Algoritmos-de-Optimizacion-LOL-2020/blob/main/AG1/Algoritmo_Clase_1.ipynb\" target=\"_parent\"><img src=\"https://colab.research.google.com/assets/colab-badge.svg\" alt=\"Open In Colab\"/></a>"
      ]
    },
    {
      "cell_type": "code",
      "metadata": {
        "colab": {
          "base_uri": "https://localhost:8080/"
        },
        "id": "viyDJz1o5Jtv",
        "outputId": "db1f5b1e-daea-436b-f3c0-4403f46bf4f1"
      },
      "source": [
        "A=[1,2,6,7,12,13,15]  \n",
        "B=[2,3,4,7,13]\n",
        "\n",
        "# C= [i for i in A if i in B]  #comprehensive\n",
        "\n",
        "C = []\n",
        "# La forma base de resolución\n",
        "for i in A:\n",
        "  for k in B:\n",
        "    if i==k:\n",
        "      C.append(i)\n",
        "\n",
        "#     C.append(i)\n",
        "\n",
        "print(C)"
      ],
      "execution_count": null,
      "outputs": [
        {
          "output_type": "stream",
          "text": [
            "[2, 7, 13]\n"
          ],
          "name": "stdout"
        }
      ]
    }
  ]
}
