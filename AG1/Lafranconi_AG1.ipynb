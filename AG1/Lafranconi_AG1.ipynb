{
  "nbformat": 4,
  "nbformat_minor": 0,
  "metadata": {
    "colab": {
      "name": "Lafranconi - AG1.ipynb",
      "provenance": [],
      "authorship_tag": "ABX9TyMWauV1TdIp1TKPMfN59X6s",
      "include_colab_link": true
    },
    "kernelspec": {
      "name": "python3",
      "display_name": "Python 3"
    }
  },
  "cells": [
    {
      "cell_type": "markdown",
      "metadata": {
        "id": "view-in-github",
        "colab_type": "text"
      },
      "source": [
        "<a href=\"https://colab.research.google.com/github/LukzAndriy/03MAIR-Algoritmos-de-Optimizacion-LOL-2020/blob/main/AG1/Lafranconi_AG1.ipynb\" target=\"_parent\"><img src=\"https://colab.research.google.com/assets/colab-badge.svg\" alt=\"Open In Colab\"/></a>"
      ]
    },
    {
      "cell_type": "markdown",
      "metadata": {
        "id": "fXsGbmlzusZI"
      },
      "source": [
        "#Algoritmos - Actividad Guiada 1\r\n",
        " "
      ]
    },
    {
      "cell_type": "markdown",
      "metadata": {
        "id": "7_lLoQ6Nt0xm"
      },
      "source": [
        "Nombre: Lucas Lafranconi\r\n",
        "\r\n",
        "URL: https://colab.research.google.com/drive/1TIsbGcBikVz4WehAdR5UVjqS8H2Z0jdi#scrollTo=7_lLoQ6Nt0xm\r\n"
      ]
    },
    {
      "cell_type": "code",
      "metadata": {
        "id": "jJo1rW_Aujos"
      },
      "source": [
        ""
      ],
      "execution_count": null,
      "outputs": []
    }
  ]
}