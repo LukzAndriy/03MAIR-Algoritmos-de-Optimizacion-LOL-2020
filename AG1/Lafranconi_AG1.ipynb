{
  "nbformat": 4,
  "nbformat_minor": 0,
  "metadata": {
    "colab": {
      "name": "Lafranconi - AG1.ipynb",
      "provenance": [],
      "collapsed_sections": [],
      "authorship_tag": "ABX9TyNGSsuQW80Q8W5/NKkEDmyv",
      "include_colab_link": true
    },
    "kernelspec": {
      "name": "python3",
      "display_name": "Python 3"
    }
  },
  "cells": [
    {
      "cell_type": "markdown",
      "metadata": {
        "id": "view-in-github",
        "colab_type": "text"
      },
      "source": [
        "<a href=\"https://colab.research.google.com/github/LukzAndriy/03MAIR-Algoritmos-de-Optimizacion-LOL-2020/blob/main/AG1/Lafranconi_AG1.ipynb\" target=\"_parent\"><img src=\"https://colab.research.google.com/assets/colab-badge.svg\" alt=\"Open In Colab\"/></a>"
      ]
    },
    {
      "cell_type": "markdown",
      "metadata": {
        "id": "fXsGbmlzusZI"
      },
      "source": [
        "#Algoritmos - Actividad Guiada 1\r\n",
        " "
      ]
    },
    {
      "cell_type": "markdown",
      "metadata": {
        "id": "7_lLoQ6Nt0xm"
      },
      "source": [
        "Nombre: Lucas Lafranconi\r\n",
        "\r\n",
        "URL: https://colab.research.google.com/drive/1TIsbGcBikVz4WehAdR5UVjqS8H2Z0jdi#scrollTo=7_lLoQ6Nt0xm\r\n",
        "\r\n",
        "GitHub: https://github.com/LukzAndriy/03MAIR-Algoritmos-de-Optimizacion-LOL-2020/blob/main/AG1/Lafranconi_AG1.ipynb\r\n"
      ]
    },
    {
      "cell_type": "markdown",
      "metadata": {
        "id": "tnrYTGJEwq_Z"
      },
      "source": [
        "## Divide y vencerás (I)"
      ]
    },
    {
      "cell_type": "code",
      "metadata": {
        "id": "6YOu35_vwzjw",
        "colab": {
          "base_uri": "https://localhost:8080/"
        },
        "outputId": "a442651f-24dd-49a0-fd44-3379bdc8ae10"
      },
      "source": [
        "def Torres_Hanoi(N, desde, hasta):\r\n",
        "  if N == 1:\r\n",
        "    print('Lleva la ficha', desde, 'hasta', hasta)\r\n",
        "  else:\r\n",
        "    # Torres_Hanoi(N-1, desde, 6 - desde-hasta)\r\n",
        "    Torres_Hanoi(N-1,desde,list({1,2,3}-{desde,hasta})[0])\r\n",
        "    print(\"Lleva la ficha \", desde, \"hasta \",hasta)\r\n",
        "    Torres_Hanoi(N-1,6-desde-hasta,hasta)\r\n",
        "\r\n",
        "Torres_Hanoi(3,1,3)"
      ],
      "execution_count": 10,
      "outputs": [
        {
          "output_type": "stream",
          "text": [
            "Lleva la ficha 1 hasta 3\n",
            "Lleva la ficha  1 hasta  2\n",
            "Lleva la ficha 3 hasta 2\n",
            "Lleva la ficha  1 hasta  3\n",
            "Lleva la ficha 2 hasta 1\n",
            "Lleva la ficha  2 hasta  3\n",
            "Lleva la ficha 1 hasta 3\n"
          ],
          "name": "stdout"
        }
      ]
    },
    {
      "cell_type": "markdown",
      "metadata": {
        "id": "5LdcUU_k8uC5"
      },
      "source": [
        "## Devolución de cambio por técnica voraz"
      ]
    },
    {
      "cell_type": "code",
      "metadata": {
        "colab": {
          "base_uri": "https://localhost:8080/"
        },
        "id": "CnTAhQxx8sJp",
        "outputId": "2ed85f8a-b093-4f79-bea5-06d0d7fae4db"
      },
      "source": [
        "def cambio_monedas(N, SM):\r\n",
        "  SOLUCION = [0]*len(SM) #SOLUCION = 0,0,0,0,...[]\r\n",
        "  ValorAcum = 0\r\n",
        "\r\n",
        "  for i, valor in enumerate(SM):\r\n",
        "    monedas = (N-ValorAcum)//valor\r\n",
        "    SOLUCION[i]=monedas\r\n",
        "    ValorAcum = ValorAcum + monedas*valor\r\n",
        "\r\n",
        "    if ValorAcum == N:\r\n",
        "      return SOLUCION\r\n",
        "\r\n",
        "cambio_monedas(137,[25,10,5,1])\r\n"
      ],
      "execution_count": 15,
      "outputs": [
        {
          "output_type": "execute_result",
          "data": {
            "text/plain": [
              "[5, 1, 0, 2]"
            ]
          },
          "metadata": {
            "tags": []
          },
          "execution_count": 15
        }
      ]
    },
    {
      "cell_type": "markdown",
      "metadata": {
        "id": "_jxb_deo_qxc"
      },
      "source": [
        "## Algoritmo de Vuelta atrás con N-Reinas"
      ]
    },
    {
      "cell_type": "code",
      "metadata": {
        "colab": {
          "base_uri": "https://localhost:8080/",
          "height": 327
        },
        "id": "MFUn82dE_jBu",
        "outputId": "6bd78da2-688a-4f17-ee04-19e342bc9f84"
      },
      "source": [
        "def es_prometedora(SOLUCION):\r\n",
        "  #print(SOLUCION)\r\n",
        "\r\n",
        "  #Si la solución tiene dos valores iguales no es valida => Dos reinas en la misma fila\r\n",
        "\r\n",
        "  for i in range(etapa+1):\r\n",
        "\r\n",
        "    #print(\"El valor \" + str(SOLUCION[i]) + \" está \" +  str(SOLUCION.count(SOLUCION[i])) + \" veces\")\r\n",
        "\r\n",
        "    if SOLUCION.count(SOLUCION[i]) > 1:       \r\n",
        "\r\n",
        "      return False\r\n",
        "\r\n",
        "      #Verifica las diagonales\r\n",
        "\r\n",
        "    for j in range(i+1, etapa +1):\r\n",
        "\r\n",
        "      #print(\"Comprobando diagonal de \" + str(i) + \" y \" + str(j))\r\n",
        "\r\n",
        "      if abs(i-j) == abs(SOLUCION[i]-SOLUCION[j]) : return False\r\n",
        "\r\n",
        "  return True\r\n",
        "\r\n",
        "def reinas(N, sol=[], etapa=0):\r\n",
        "  for i in range(1,N+1):\r\n",
        "    sol[etapa] = i\r\n",
        "\r\n",
        "    if es_prometedora(sol):\r\n",
        "      if etapa == N-1:\r\n",
        "        print(sol)\r\n",
        "      else:\r\n",
        "        reinas(N, sol, etapa+1)\r\n",
        "    else:\r\n",
        "      None\r\n",
        "\r\n",
        "    solucion[etapa]=0\r\n",
        "\r\n",
        "\r\n",
        "reinas(4)"
      ],
      "execution_count": 22,
      "outputs": [
        {
          "output_type": "error",
          "ename": "IndexError",
          "evalue": "ignored",
          "traceback": [
            "\u001b[0;31m---------------------------------------------------------------------------\u001b[0m",
            "\u001b[0;31mIndexError\u001b[0m                                Traceback (most recent call last)",
            "\u001b[0;32m<ipython-input-22-e648e505ec27>\u001b[0m in \u001b[0;36m<module>\u001b[0;34m()\u001b[0m\n\u001b[1;32m     37\u001b[0m \u001b[0;34m\u001b[0m\u001b[0m\n\u001b[1;32m     38\u001b[0m \u001b[0;34m\u001b[0m\u001b[0m\n\u001b[0;32m---> 39\u001b[0;31m \u001b[0mreinas\u001b[0m\u001b[0;34m(\u001b[0m\u001b[0;36m4\u001b[0m\u001b[0;34m)\u001b[0m\u001b[0;34m\u001b[0m\u001b[0;34m\u001b[0m\u001b[0m\n\u001b[0m",
            "\u001b[0;32m<ipython-input-22-e648e505ec27>\u001b[0m in \u001b[0;36mreinas\u001b[0;34m(N, sol, etapa)\u001b[0m\n\u001b[1;32m     24\u001b[0m \u001b[0;32mdef\u001b[0m \u001b[0mreinas\u001b[0m\u001b[0;34m(\u001b[0m\u001b[0mN\u001b[0m\u001b[0;34m,\u001b[0m \u001b[0msol\u001b[0m\u001b[0;34m=\u001b[0m\u001b[0;34m[\u001b[0m\u001b[0;34m]\u001b[0m\u001b[0;34m,\u001b[0m \u001b[0metapa\u001b[0m\u001b[0;34m=\u001b[0m\u001b[0;36m0\u001b[0m\u001b[0;34m)\u001b[0m\u001b[0;34m:\u001b[0m\u001b[0;34m\u001b[0m\u001b[0;34m\u001b[0m\u001b[0m\n\u001b[1;32m     25\u001b[0m   \u001b[0;32mfor\u001b[0m \u001b[0mi\u001b[0m \u001b[0;32min\u001b[0m \u001b[0mrange\u001b[0m\u001b[0;34m(\u001b[0m\u001b[0;36m1\u001b[0m\u001b[0;34m,\u001b[0m\u001b[0mN\u001b[0m\u001b[0;34m+\u001b[0m\u001b[0;36m1\u001b[0m\u001b[0;34m)\u001b[0m\u001b[0;34m:\u001b[0m\u001b[0;34m\u001b[0m\u001b[0;34m\u001b[0m\u001b[0m\n\u001b[0;32m---> 26\u001b[0;31m     \u001b[0msol\u001b[0m\u001b[0;34m[\u001b[0m\u001b[0metapa\u001b[0m\u001b[0;34m]\u001b[0m \u001b[0;34m=\u001b[0m \u001b[0mi\u001b[0m\u001b[0;34m\u001b[0m\u001b[0;34m\u001b[0m\u001b[0m\n\u001b[0m\u001b[1;32m     27\u001b[0m \u001b[0;34m\u001b[0m\u001b[0m\n\u001b[1;32m     28\u001b[0m     \u001b[0;32mif\u001b[0m \u001b[0mes_prometedora\u001b[0m\u001b[0;34m(\u001b[0m\u001b[0msol\u001b[0m\u001b[0;34m)\u001b[0m\u001b[0;34m:\u001b[0m\u001b[0;34m\u001b[0m\u001b[0;34m\u001b[0m\u001b[0m\n",
            "\u001b[0;31mIndexError\u001b[0m: list assignment index out of range"
          ]
        }
      ]
    },
    {
      "cell_type": "code",
      "metadata": {
        "colab": {
          "base_uri": "https://localhost:8080/"
        },
        "id": "LYoSpbWuzs-l",
        "outputId": "afb50bb3-2720-4788-bbb9-335bc3aec590"
      },
      "source": [
        "# !git commit -m “first commit”"
      ],
      "execution_count": 5,
      "outputs": [
        {
          "output_type": "stream",
          "text": [
            "fatal: not a git repository (or any of the parent directories): .git\n"
          ],
          "name": "stdout"
        }
      ]
    }
  ]
}