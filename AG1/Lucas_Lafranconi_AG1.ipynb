{
  "nbformat": 4,
  "nbformat_minor": 0,
  "metadata": {
    "colab": {
      "name": "Lucas Lafranconi - AG1.ipynb",
      "provenance": [],
      "collapsed_sections": [],
      "authorship_tag": "ABX9TyN+b2rgcYDbLd1Wdx2Ek9JS",
      "include_colab_link": true
    },
    "kernelspec": {
      "name": "python3",
      "display_name": "Python 3"
    }
  },
  "cells": [
    {
      "cell_type": "markdown",
      "metadata": {
        "id": "view-in-github",
        "colab_type": "text"
      },
      "source": [
        "<a href=\"https://colab.research.google.com/github/LukzAndriy/03MAIR-Algoritmos-de-Optimizacion-LOL-2020/blob/main/AG1/Lucas_Lafranconi_AG1.ipynb\" target=\"_parent\"><img src=\"https://colab.research.google.com/assets/colab-badge.svg\" alt=\"Open In Colab\"/></a>"
      ]
    },
    {
      "cell_type": "markdown",
      "metadata": {
        "id": "fXsGbmlzusZI"
      },
      "source": [
        "#Algoritmos - Actividad Guiada 1\r\n",
        " "
      ]
    },
    {
      "cell_type": "markdown",
      "metadata": {
        "id": "7_lLoQ6Nt0xm"
      },
      "source": [
        "Nombre: Lucas Lafranconi\r\n",
        "\r\n",
        "URL: https://colab.research.google.com/drive/1TIsbGcBikVz4WehAdR5UVjqS8H2Z0jdi?usp=sharing\r\n",
        "\r\n",
        "GitHub: https://github.com/LukzAndriy/03MAIR-Algoritmos-de-Optimizacion-LOL-2020/blob/main/AG1/Lafranconi_AG1.ipynb\r\n"
      ]
    },
    {
      "cell_type": "markdown",
      "metadata": {
        "id": "tnrYTGJEwq_Z"
      },
      "source": [
        "## Divide y vencerás (I)"
      ]
    },
    {
      "cell_type": "code",
      "metadata": {
        "id": "6YOu35_vwzjw",
        "colab": {
          "base_uri": "https://localhost:8080/"
        },
        "outputId": "6ec73785-134f-434d-dc14-5e73ccd5ac3c"
      },
      "source": [
        "def Torres_Hanoi(N, desde, hasta):\r\n",
        "  if N == 1:\r\n",
        "    print('Lleva la ficha', desde, 'hasta', hasta)\r\n",
        "  else:\r\n",
        "    Torres_Hanoi(N-1,desde,list({1,2,3}-{desde,hasta})[0])\r\n",
        "    print(\"Lleva la ficha \", desde, \"hasta \",hasta)\r\n",
        "    Torres_Hanoi(N-1,6-desde-hasta,hasta)\r\n",
        "\r\n",
        "Torres_Hanoi(3,2,3)"
      ],
      "execution_count": null,
      "outputs": [
        {
          "output_type": "stream",
          "text": [
            "Lleva la ficha 2 hasta 3\n",
            "Lleva la ficha  2 hasta  1\n",
            "Lleva la ficha 3 hasta 1\n",
            "Lleva la ficha  2 hasta  3\n",
            "Lleva la ficha 1 hasta 2\n",
            "Lleva la ficha  1 hasta  3\n",
            "Lleva la ficha 2 hasta 3\n"
          ],
          "name": "stdout"
        }
      ]
    },
    {
      "cell_type": "markdown",
      "metadata": {
        "id": "5LdcUU_k8uC5"
      },
      "source": [
        "## Devolución de cambio por técnica voraz"
      ]
    },
    {
      "cell_type": "code",
      "metadata": {
        "colab": {
          "base_uri": "https://localhost:8080/"
        },
        "id": "CnTAhQxx8sJp",
        "outputId": "2ed85f8a-b093-4f79-bea5-06d0d7fae4db"
      },
      "source": [
        "def cambio_monedas(N, SM):\r\n",
        "  SOLUCION = [0]*len(SM) #SOLUCION = 0,0,0,0,...[]\r\n",
        "  ValorAcum = 0\r\n",
        "\r\n",
        "  for i, valor in enumerate(SM):\r\n",
        "    monedas = (N-ValorAcum)//valor\r\n",
        "    SOLUCION[i]=monedas\r\n",
        "    ValorAcum = ValorAcum + monedas*valor\r\n",
        "\r\n",
        "    if ValorAcum == N:\r\n",
        "      return SOLUCION\r\n",
        "\r\n",
        "cambio_monedas(137,[25,10,5,1])\r\n"
      ],
      "execution_count": null,
      "outputs": [
        {
          "output_type": "execute_result",
          "data": {
            "text/plain": [
              "[5, 1, 0, 2]"
            ]
          },
          "metadata": {
            "tags": []
          },
          "execution_count": 15
        }
      ]
    },
    {
      "cell_type": "markdown",
      "metadata": {
        "id": "_jxb_deo_qxc"
      },
      "source": [
        "## Algoritmo de Vuelta atrás con N-Reinas"
      ]
    },
    {
      "cell_type": "code",
      "metadata": {
        "colab": {
          "base_uri": "https://localhost:8080/"
        },
        "id": "MFUn82dE_jBu",
        "outputId": "ca860cce-ff32-4c76-b79e-cfd0e0cfb732"
      },
      "source": [
        "#La idea de este algoritmo es buscar las soluciones que resuelven el problema de cómo colocar las reinas en el tableto sin que se ataquen mutuamente.\r\n",
        "#Para esto hay que describir las reglas, a partir de un número N de reinas (para N filas y N columnas)\r\n",
        "\r\n",
        "def es_prometedora(sol, etapa):\r\n",
        "    # Función que revisa las posibles soluciones de la función reinas()\r\n",
        "    # Si una solución tiene dos valores no es válida (dos reinas en la misma fila)\r\n",
        "    for i in range(etapa+1):\r\n",
        "        if sol.count(sol[i]) > 1:\r\n",
        "            return False\r\n",
        "        \r\n",
        "        # Revisamos las diagonales\r\n",
        "        for j in range(i+1, etapa+1):\r\n",
        "            if abs(i-j) == abs(sol[i] - sol[j]):\r\n",
        "                return False\r\n",
        "    \r\n",
        "    return True\r\n",
        "\r\n",
        "\r\n",
        "def reinas(N, sol=[], etapa=0):\r\n",
        "  if len(sol) == 0:\r\n",
        "    sol = [0 for i in range(N)]\r\n",
        "  for i in range(1,N+1):\r\n",
        "    sol[etapa] = i\r\n",
        "\r\n",
        "    if es_prometedora(sol, etapa):\r\n",
        "      if etapa == N-1:\r\n",
        "        print(sol)\r\n",
        "       \r\n",
        "      else:\r\n",
        "        reinas(N, sol, etapa+1)\r\n",
        "    \r\n",
        "    sol[etapa]=0\r\n",
        "\r\n",
        "\r\n",
        "reinas(4)"
      ],
      "execution_count": null,
      "outputs": [
        {
          "output_type": "stream",
          "text": [
            "[2, 4, 1, 3]\n",
            "[3, 1, 4, 2]\n"
          ],
          "name": "stdout"
        }
      ]
    }
  ]
}