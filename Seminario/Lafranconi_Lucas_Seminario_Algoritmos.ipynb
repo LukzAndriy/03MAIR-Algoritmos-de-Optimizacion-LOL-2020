{
  "nbformat": 4,
  "nbformat_minor": 0,
  "metadata": {
    "colab": {
      "name": "Lafranconi_Lucas_Seminario_Algoritmos.ipynb",
      "provenance": [],
      "collapsed_sections": [
        "ah576ugGEOu5",
        "dzynfVJahHoY",
        "rlnTYgY1j6I2"
      ],
      "include_colab_link": true
    },
    "kernelspec": {
      "name": "python3",
      "display_name": "Python 3"
    }
  },
  "cells": [
    {
      "cell_type": "markdown",
      "metadata": {
        "id": "view-in-github",
        "colab_type": "text"
      },
      "source": [
        "<a href=\"https://colab.research.google.com/github/LukzAndriy/03MAIR-Algoritmos-de-Optimizacion-LOL-2020/blob/main/Seminario/Lafranconi_Lucas_Seminario_Algoritmos.ipynb\" target=\"_parent\"><img src=\"https://colab.research.google.com/assets/colab-badge.svg\" alt=\"Open In Colab\"/></a>"
      ]
    },
    {
      "cell_type": "markdown",
      "metadata": {
        "id": "hVbXYX-RfPWh"
      },
      "source": [
        "# Algoritmos de optimización - Seminario<br>\n",
        "Nombre y Apellidos:  Lucas Lafranconi <br>\n",
        "Url: https://colab.research.google.com/drive/1AR_IEEpgXbWW2Jy8O35bSv1kEt4PF9nD?usp=sharing <br>\n",
        "Github: ... <br>\n",
        "\n",
        "##Problema:\n",
        "> 1. Sesiones de doblaje <br>\n",
        "\n",
        "**Descripción del problema:**\n",
        "\n",
        "Se precisa coordinar el doblaje de una película. Los actores del doblaje deben coincidir en las tomas en las que sus personajes aparecen juntos en las diferentes tomas. Los actores de doblaje cobran todos la misma cantidad por cada día que deben desplazarse hasta el estudio de grabación independientemente del número de tomas que se graben. \n",
        "\n",
        "No es posible grabar más de 6 tomas por día. El objetivo es planificar las sesiones por día de manera que se gasto por los servicios de los actores de doblaje sea el menor posible.\n",
        "\n",
        "\n",
        "\n",
        "\n",
        "\n",
        "\n",
        "\n",
        "                                        "
      ]
    },
    {
      "cell_type": "markdown",
      "metadata": {
        "id": "ah576ugGEOu5"
      },
      "source": [
        "### Consideraciones del problema\r\n",
        "\r\n",
        "En el mundo real, la secuencia de filmación de las escenas de la película no es la secuencia final. Por lo tanto, la idea detrás de este problema es encontrar la secuencia óptima. Si tenemos un conjunto de escenas y un conjunto de actores. \r\n",
        "\r\n",
        "El problema consiste en cómo reducir el costo de transferencia en función de los actores para minimizar el costo total, por lo que se trata de un problema de optimización de uno o más factores, y es considerado un problema NP-difícil.\r\n",
        "\r\n",
        "Planteado inicialmente por [Cheng et al](https://https://link.springer.com/article/10.1007/BF00940554) (1993), es un problema de permanente interés, abordado por diversas técnicas algorítmicas, encontrándose en las metaheurísticas los enfoques más novedosas para optimización multifactorial para un número grande de tomas, como el Método Basado en Búsqueda Tabú (TSBM), la optimización de enjambre (PSOBM) [(Liu et al, 2019)](https://https://www.hindawi.com/journals/ddns/2019/3737105/) o de colonia de hormigas [(Long & Zhao, 2020)](https://ieeexplore.ieee.org/stamp/stamp.jsp?arnumber=9044871).\r\n",
        "\r\n",
        "#### Días de grabación\r\n",
        "Son 30 tomas a filmar en total y no se pueden superar las 6 tomas por día. Por lo tanto, en el mejor de los casos el número mínimo de días sería de 5 días de grabación.\r\n",
        "\r\n",
        "#### Precio por actor\r\n",
        "Como todos los actores cobran lo mismo por día, y esto es independiente del número de tomas, se puede ignorar el precio por actor para este problema en particular.\r\n",
        "\r\n",
        "#### Duración de escenas\r\n",
        "Se dejará de lado la duración de las escenas, suponiendo que todas duran lo mismo y no afectan al pago del actor o la cantidad que pueden filmarse en un día. \r\n",
        "\r\n",
        "#### Orden de las tomas y las sesiones\r\n",
        "No hay ninguna restricción aparente del orden de las tomas, ya que es irrelevante dentro de cada sesión, y no afecta el gasto final. Lo mismo sucede con el orden de las sesiones."
      ]
    },
    {
      "cell_type": "code",
      "metadata": {
        "id": "AiskKkzZfy4e",
        "colab": {
          "base_uri": "https://localhost:8080/",
          "height": 1000
        },
        "outputId": "2860926a-2c1f-4c7f-a357-28eb7b6d54e4"
      },
      "source": [
        "#Análisis de datos de esta película\r\n",
        "\r\n",
        "import numpy as np\r\n",
        "import pandas as pd\r\n",
        "\r\n",
        "ruta = 'https://raw.githubusercontent.com/LukzAndriy/03MAIR-Algoritmos-de-Optimizacion-LOL-2020/main/Seminario/data_sp.csv'\r\n",
        "data = pd.read_csv(ruta, index_col=0)\r\n",
        "\r\n",
        "display(data)"
      ],
      "execution_count": null,
      "outputs": [
        {
          "output_type": "display_data",
          "data": {
            "text/html": [
              "<div>\n",
              "<style scoped>\n",
              "    .dataframe tbody tr th:only-of-type {\n",
              "        vertical-align: middle;\n",
              "    }\n",
              "\n",
              "    .dataframe tbody tr th {\n",
              "        vertical-align: top;\n",
              "    }\n",
              "\n",
              "    .dataframe thead th {\n",
              "        text-align: right;\n",
              "    }\n",
              "</style>\n",
              "<table border=\"1\" class=\"dataframe\">\n",
              "  <thead>\n",
              "    <tr style=\"text-align: right;\">\n",
              "      <th></th>\n",
              "      <th>1</th>\n",
              "      <th>2</th>\n",
              "      <th>3</th>\n",
              "      <th>4</th>\n",
              "      <th>5</th>\n",
              "      <th>6</th>\n",
              "      <th>7</th>\n",
              "      <th>8</th>\n",
              "      <th>9</th>\n",
              "      <th>10</th>\n",
              "    </tr>\n",
              "    <tr>\n",
              "      <th>Toma</th>\n",
              "      <th></th>\n",
              "      <th></th>\n",
              "      <th></th>\n",
              "      <th></th>\n",
              "      <th></th>\n",
              "      <th></th>\n",
              "      <th></th>\n",
              "      <th></th>\n",
              "      <th></th>\n",
              "      <th></th>\n",
              "    </tr>\n",
              "  </thead>\n",
              "  <tbody>\n",
              "    <tr>\n",
              "      <th>1</th>\n",
              "      <td>1</td>\n",
              "      <td>1</td>\n",
              "      <td>1</td>\n",
              "      <td>1</td>\n",
              "      <td>1</td>\n",
              "      <td>0</td>\n",
              "      <td>0</td>\n",
              "      <td>0</td>\n",
              "      <td>0</td>\n",
              "      <td>0</td>\n",
              "    </tr>\n",
              "    <tr>\n",
              "      <th>2</th>\n",
              "      <td>0</td>\n",
              "      <td>0</td>\n",
              "      <td>1</td>\n",
              "      <td>1</td>\n",
              "      <td>1</td>\n",
              "      <td>0</td>\n",
              "      <td>0</td>\n",
              "      <td>0</td>\n",
              "      <td>0</td>\n",
              "      <td>0</td>\n",
              "    </tr>\n",
              "    <tr>\n",
              "      <th>3</th>\n",
              "      <td>0</td>\n",
              "      <td>1</td>\n",
              "      <td>0</td>\n",
              "      <td>0</td>\n",
              "      <td>1</td>\n",
              "      <td>0</td>\n",
              "      <td>1</td>\n",
              "      <td>0</td>\n",
              "      <td>0</td>\n",
              "      <td>0</td>\n",
              "    </tr>\n",
              "    <tr>\n",
              "      <th>4</th>\n",
              "      <td>1</td>\n",
              "      <td>1</td>\n",
              "      <td>0</td>\n",
              "      <td>0</td>\n",
              "      <td>0</td>\n",
              "      <td>0</td>\n",
              "      <td>1</td>\n",
              "      <td>1</td>\n",
              "      <td>0</td>\n",
              "      <td>0</td>\n",
              "    </tr>\n",
              "    <tr>\n",
              "      <th>5</th>\n",
              "      <td>0</td>\n",
              "      <td>1</td>\n",
              "      <td>0</td>\n",
              "      <td>1</td>\n",
              "      <td>0</td>\n",
              "      <td>0</td>\n",
              "      <td>0</td>\n",
              "      <td>1</td>\n",
              "      <td>0</td>\n",
              "      <td>0</td>\n",
              "    </tr>\n",
              "    <tr>\n",
              "      <th>6</th>\n",
              "      <td>1</td>\n",
              "      <td>1</td>\n",
              "      <td>0</td>\n",
              "      <td>1</td>\n",
              "      <td>1</td>\n",
              "      <td>0</td>\n",
              "      <td>0</td>\n",
              "      <td>0</td>\n",
              "      <td>0</td>\n",
              "      <td>0</td>\n",
              "    </tr>\n",
              "    <tr>\n",
              "      <th>7</th>\n",
              "      <td>1</td>\n",
              "      <td>1</td>\n",
              "      <td>0</td>\n",
              "      <td>1</td>\n",
              "      <td>1</td>\n",
              "      <td>0</td>\n",
              "      <td>0</td>\n",
              "      <td>0</td>\n",
              "      <td>0</td>\n",
              "      <td>0</td>\n",
              "    </tr>\n",
              "    <tr>\n",
              "      <th>8</th>\n",
              "      <td>1</td>\n",
              "      <td>1</td>\n",
              "      <td>0</td>\n",
              "      <td>0</td>\n",
              "      <td>0</td>\n",
              "      <td>1</td>\n",
              "      <td>0</td>\n",
              "      <td>0</td>\n",
              "      <td>0</td>\n",
              "      <td>0</td>\n",
              "    </tr>\n",
              "    <tr>\n",
              "      <th>9</th>\n",
              "      <td>1</td>\n",
              "      <td>1</td>\n",
              "      <td>0</td>\n",
              "      <td>1</td>\n",
              "      <td>0</td>\n",
              "      <td>0</td>\n",
              "      <td>0</td>\n",
              "      <td>0</td>\n",
              "      <td>0</td>\n",
              "      <td>0</td>\n",
              "    </tr>\n",
              "    <tr>\n",
              "      <th>10</th>\n",
              "      <td>1</td>\n",
              "      <td>1</td>\n",
              "      <td>0</td>\n",
              "      <td>0</td>\n",
              "      <td>0</td>\n",
              "      <td>1</td>\n",
              "      <td>0</td>\n",
              "      <td>0</td>\n",
              "      <td>1</td>\n",
              "      <td>0</td>\n",
              "    </tr>\n",
              "    <tr>\n",
              "      <th>11</th>\n",
              "      <td>1</td>\n",
              "      <td>1</td>\n",
              "      <td>1</td>\n",
              "      <td>0</td>\n",
              "      <td>1</td>\n",
              "      <td>0</td>\n",
              "      <td>0</td>\n",
              "      <td>1</td>\n",
              "      <td>0</td>\n",
              "      <td>0</td>\n",
              "    </tr>\n",
              "    <tr>\n",
              "      <th>12</th>\n",
              "      <td>1</td>\n",
              "      <td>1</td>\n",
              "      <td>1</td>\n",
              "      <td>1</td>\n",
              "      <td>0</td>\n",
              "      <td>1</td>\n",
              "      <td>0</td>\n",
              "      <td>0</td>\n",
              "      <td>0</td>\n",
              "      <td>0</td>\n",
              "    </tr>\n",
              "    <tr>\n",
              "      <th>13</th>\n",
              "      <td>1</td>\n",
              "      <td>0</td>\n",
              "      <td>0</td>\n",
              "      <td>1</td>\n",
              "      <td>1</td>\n",
              "      <td>0</td>\n",
              "      <td>0</td>\n",
              "      <td>0</td>\n",
              "      <td>0</td>\n",
              "      <td>0</td>\n",
              "    </tr>\n",
              "    <tr>\n",
              "      <th>14</th>\n",
              "      <td>1</td>\n",
              "      <td>0</td>\n",
              "      <td>1</td>\n",
              "      <td>0</td>\n",
              "      <td>0</td>\n",
              "      <td>1</td>\n",
              "      <td>0</td>\n",
              "      <td>0</td>\n",
              "      <td>0</td>\n",
              "      <td>0</td>\n",
              "    </tr>\n",
              "    <tr>\n",
              "      <th>15</th>\n",
              "      <td>1</td>\n",
              "      <td>1</td>\n",
              "      <td>0</td>\n",
              "      <td>0</td>\n",
              "      <td>0</td>\n",
              "      <td>0</td>\n",
              "      <td>1</td>\n",
              "      <td>0</td>\n",
              "      <td>0</td>\n",
              "      <td>0</td>\n",
              "    </tr>\n",
              "    <tr>\n",
              "      <th>16</th>\n",
              "      <td>0</td>\n",
              "      <td>0</td>\n",
              "      <td>0</td>\n",
              "      <td>1</td>\n",
              "      <td>0</td>\n",
              "      <td>0</td>\n",
              "      <td>0</td>\n",
              "      <td>0</td>\n",
              "      <td>0</td>\n",
              "      <td>1</td>\n",
              "    </tr>\n",
              "    <tr>\n",
              "      <th>17</th>\n",
              "      <td>1</td>\n",
              "      <td>0</td>\n",
              "      <td>1</td>\n",
              "      <td>0</td>\n",
              "      <td>0</td>\n",
              "      <td>0</td>\n",
              "      <td>0</td>\n",
              "      <td>0</td>\n",
              "      <td>0</td>\n",
              "      <td>0</td>\n",
              "    </tr>\n",
              "    <tr>\n",
              "      <th>18</th>\n",
              "      <td>0</td>\n",
              "      <td>0</td>\n",
              "      <td>1</td>\n",
              "      <td>0</td>\n",
              "      <td>0</td>\n",
              "      <td>1</td>\n",
              "      <td>0</td>\n",
              "      <td>0</td>\n",
              "      <td>0</td>\n",
              "      <td>0</td>\n",
              "    </tr>\n",
              "    <tr>\n",
              "      <th>19</th>\n",
              "      <td>1</td>\n",
              "      <td>0</td>\n",
              "      <td>1</td>\n",
              "      <td>0</td>\n",
              "      <td>0</td>\n",
              "      <td>0</td>\n",
              "      <td>0</td>\n",
              "      <td>0</td>\n",
              "      <td>0</td>\n",
              "      <td>0</td>\n",
              "    </tr>\n",
              "    <tr>\n",
              "      <th>20</th>\n",
              "      <td>1</td>\n",
              "      <td>0</td>\n",
              "      <td>1</td>\n",
              "      <td>1</td>\n",
              "      <td>1</td>\n",
              "      <td>0</td>\n",
              "      <td>0</td>\n",
              "      <td>0</td>\n",
              "      <td>0</td>\n",
              "      <td>0</td>\n",
              "    </tr>\n",
              "    <tr>\n",
              "      <th>21</th>\n",
              "      <td>0</td>\n",
              "      <td>0</td>\n",
              "      <td>0</td>\n",
              "      <td>0</td>\n",
              "      <td>0</td>\n",
              "      <td>1</td>\n",
              "      <td>0</td>\n",
              "      <td>1</td>\n",
              "      <td>0</td>\n",
              "      <td>0</td>\n",
              "    </tr>\n",
              "    <tr>\n",
              "      <th>22</th>\n",
              "      <td>1</td>\n",
              "      <td>1</td>\n",
              "      <td>1</td>\n",
              "      <td>1</td>\n",
              "      <td>0</td>\n",
              "      <td>0</td>\n",
              "      <td>0</td>\n",
              "      <td>0</td>\n",
              "      <td>0</td>\n",
              "      <td>0</td>\n",
              "    </tr>\n",
              "    <tr>\n",
              "      <th>23</th>\n",
              "      <td>1</td>\n",
              "      <td>0</td>\n",
              "      <td>1</td>\n",
              "      <td>0</td>\n",
              "      <td>0</td>\n",
              "      <td>0</td>\n",
              "      <td>0</td>\n",
              "      <td>0</td>\n",
              "      <td>0</td>\n",
              "      <td>0</td>\n",
              "    </tr>\n",
              "    <tr>\n",
              "      <th>24</th>\n",
              "      <td>0</td>\n",
              "      <td>0</td>\n",
              "      <td>1</td>\n",
              "      <td>0</td>\n",
              "      <td>0</td>\n",
              "      <td>1</td>\n",
              "      <td>0</td>\n",
              "      <td>0</td>\n",
              "      <td>0</td>\n",
              "      <td>0</td>\n",
              "    </tr>\n",
              "    <tr>\n",
              "      <th>25</th>\n",
              "      <td>1</td>\n",
              "      <td>1</td>\n",
              "      <td>0</td>\n",
              "      <td>1</td>\n",
              "      <td>0</td>\n",
              "      <td>0</td>\n",
              "      <td>0</td>\n",
              "      <td>0</td>\n",
              "      <td>0</td>\n",
              "      <td>1</td>\n",
              "    </tr>\n",
              "    <tr>\n",
              "      <th>26</th>\n",
              "      <td>1</td>\n",
              "      <td>0</td>\n",
              "      <td>1</td>\n",
              "      <td>0</td>\n",
              "      <td>1</td>\n",
              "      <td>0</td>\n",
              "      <td>0</td>\n",
              "      <td>0</td>\n",
              "      <td>1</td>\n",
              "      <td>0</td>\n",
              "    </tr>\n",
              "    <tr>\n",
              "      <th>27</th>\n",
              "      <td>0</td>\n",
              "      <td>0</td>\n",
              "      <td>0</td>\n",
              "      <td>1</td>\n",
              "      <td>1</td>\n",
              "      <td>0</td>\n",
              "      <td>0</td>\n",
              "      <td>0</td>\n",
              "      <td>0</td>\n",
              "      <td>0</td>\n",
              "    </tr>\n",
              "    <tr>\n",
              "      <th>28</th>\n",
              "      <td>1</td>\n",
              "      <td>0</td>\n",
              "      <td>0</td>\n",
              "      <td>1</td>\n",
              "      <td>0</td>\n",
              "      <td>0</td>\n",
              "      <td>0</td>\n",
              "      <td>0</td>\n",
              "      <td>0</td>\n",
              "      <td>0</td>\n",
              "    </tr>\n",
              "    <tr>\n",
              "      <th>29</th>\n",
              "      <td>1</td>\n",
              "      <td>0</td>\n",
              "      <td>0</td>\n",
              "      <td>0</td>\n",
              "      <td>1</td>\n",
              "      <td>1</td>\n",
              "      <td>0</td>\n",
              "      <td>0</td>\n",
              "      <td>0</td>\n",
              "      <td>0</td>\n",
              "    </tr>\n",
              "    <tr>\n",
              "      <th>30</th>\n",
              "      <td>1</td>\n",
              "      <td>0</td>\n",
              "      <td>0</td>\n",
              "      <td>1</td>\n",
              "      <td>0</td>\n",
              "      <td>0</td>\n",
              "      <td>0</td>\n",
              "      <td>0</td>\n",
              "      <td>0</td>\n",
              "      <td>0</td>\n",
              "    </tr>\n",
              "  </tbody>\n",
              "</table>\n",
              "</div>"
            ],
            "text/plain": [
              "      1  2  3  4  5  6  7  8  9  10\n",
              "Toma                               \n",
              "1     1  1  1  1  1  0  0  0  0   0\n",
              "2     0  0  1  1  1  0  0  0  0   0\n",
              "3     0  1  0  0  1  0  1  0  0   0\n",
              "4     1  1  0  0  0  0  1  1  0   0\n",
              "5     0  1  0  1  0  0  0  1  0   0\n",
              "6     1  1  0  1  1  0  0  0  0   0\n",
              "7     1  1  0  1  1  0  0  0  0   0\n",
              "8     1  1  0  0  0  1  0  0  0   0\n",
              "9     1  1  0  1  0  0  0  0  0   0\n",
              "10    1  1  0  0  0  1  0  0  1   0\n",
              "11    1  1  1  0  1  0  0  1  0   0\n",
              "12    1  1  1  1  0  1  0  0  0   0\n",
              "13    1  0  0  1  1  0  0  0  0   0\n",
              "14    1  0  1  0  0  1  0  0  0   0\n",
              "15    1  1  0  0  0  0  1  0  0   0\n",
              "16    0  0  0  1  0  0  0  0  0   1\n",
              "17    1  0  1  0  0  0  0  0  0   0\n",
              "18    0  0  1  0  0  1  0  0  0   0\n",
              "19    1  0  1  0  0  0  0  0  0   0\n",
              "20    1  0  1  1  1  0  0  0  0   0\n",
              "21    0  0  0  0  0  1  0  1  0   0\n",
              "22    1  1  1  1  0  0  0  0  0   0\n",
              "23    1  0  1  0  0  0  0  0  0   0\n",
              "24    0  0  1  0  0  1  0  0  0   0\n",
              "25    1  1  0  1  0  0  0  0  0   1\n",
              "26    1  0  1  0  1  0  0  0  1   0\n",
              "27    0  0  0  1  1  0  0  0  0   0\n",
              "28    1  0  0  1  0  0  0  0  0   0\n",
              "29    1  0  0  0  1  1  0  0  0   0\n",
              "30    1  0  0  1  0  0  0  0  0   0"
            ]
          },
          "metadata": {
            "tags": []
          }
        }
      ]
    },
    {
      "cell_type": "code",
      "metadata": {
        "colab": {
          "base_uri": "https://localhost:8080/"
        },
        "id": "5qymyX4dlmWZ",
        "outputId": "a6daa0eb-7723-4bca-8961-b66d02bcc596"
      },
      "source": [
        "tomas=data.shape[0]\r\n",
        "actores=data.shape[1]\r\n",
        "tomas,actores"
      ],
      "execution_count": null,
      "outputs": [
        {
          "output_type": "execute_result",
          "data": {
            "text/plain": [
              "(30, 10)"
            ]
          },
          "metadata": {
            "tags": []
          },
          "execution_count": 2
        }
      ]
    },
    {
      "cell_type": "code",
      "metadata": {
        "id": "2Zssx9_vX15o"
      },
      "source": [
        "# Lista de costes por toma\r\n",
        "costos = tuple(data.itertuples(index=False, name=None))\r\n",
        "# Tomas por sesión\r\n",
        "max_tomas = 6"
      ],
      "execution_count": null,
      "outputs": []
    },
    {
      "cell_type": "markdown",
      "metadata": {
        "id": "3_-exlrTgLd-"
      },
      "source": [
        "* **¿Cuántas posibilidades hay sin tener en cuenta las restricciones?**<br>\n",
        "\n",
        "La única restricción es el **máximo de tomas por día**.\n",
        "\n",
        "De no tener en cuenta dicha restricción, se podría grabar todas las tomas en un mismo día, en una única gran sesión.\n",
        "\n",
        "Al tener que filmar 30 tomas, tendríamos que el número de posibilidades se calcularía con una permutación lineal simple: \n",
        "\n",
        "$n! = 30! $\n",
        "\n",
        "Se calcula a continuación:\n"
      ]
    },
    {
      "cell_type": "markdown",
      "metadata": {
        "id": "WfCUqJyKhPcw"
      },
      "source": [
        "Respuesta"
      ]
    },
    {
      "cell_type": "code",
      "metadata": {
        "id": "iq6Fe32MgpDX",
        "colab": {
          "base_uri": "https://localhost:8080/"
        },
        "outputId": "dce13ab4-5c8b-4bbb-ae77-7826f38fe21a"
      },
      "source": [
        "def factorial(n, memo = {}):   \r\n",
        "  if n == 0 or n == 1:\r\n",
        "    return 1\r\n",
        "\r\n",
        "  try:       \r\n",
        "    return memo[n]   \r\n",
        "  except KeyError:       \r\n",
        "    resultado = n*factorial(n - 1, memo)       \r\n",
        "    memo[n] = resultado               \r\n",
        "    return resultado\r\n",
        "\r\n",
        "posibilidades = factorial(tomas)\r\n",
        "print('Existen %s posibilidades si no existen restricciones de tomas por día' % (\"{:e}\".format(posibilidades)))\r\n"
      ],
      "execution_count": null,
      "outputs": [
        {
          "output_type": "stream",
          "text": [
            "Existen 2.652529e+32 posibilidades si no existen restricciones de tomas por día\n"
          ],
          "name": "stdout"
        }
      ]
    },
    {
      "cell_type": "markdown",
      "metadata": {
        "id": "cDKJE0d4EAgz"
      },
      "source": [
        "Como se calculó arriba, existen $\\approx 2.65e32 $ combinaciones posibles de tomas dentro de una única sesión.\r\n",
        "\r\n",
        "En este caso en particular, sería irrelevante el orden de las tomas porque todos los actores estarían allí ya, cualquier solución sería válida e idéntica en gasto, correspondiente al total de actores (10).\r\n",
        "\r\n",
        "---\r\n",
        "\r\n",
        "* **¿Cuantas posibilidades hay teniendo en cuenta todas las restricciones?**\r\n",
        "\r\n",
        "Definimos $n$ el total de tomas y $b$ las tomas por sesión, con $n,b \\in \\mathbb{N}^2 $ y $1\\leq b \\leq n$.\r\n",
        "\r\n",
        "Para calcular el total de sesiones posibles, elegimos $b$ veces una de las $n$ tomas, teniendo una menos por elegir en cada iteración.\r\n",
        "\r\n",
        "Agrupando a elementos de $b$ en $b$, se pueden formar $k=b/n$ grupos (suponiendo siempre que b es múltiplo de n, como lo es en el caso del problema)\r\n",
        "\r\n",
        "El primer grupo estará formado por cualquier combinación de $b$ elementos a tomar entre todos los que hay. El número de tales combinaciones es $C(n,b)$\r\n",
        "\r\n",
        "El segundo grupo estará formado otra vez por cualquier combinación de $b$ elementos, pero esta vez no tenemos para elegir todos los $n$ iniciales, pues ya se han usado $b$ elementos en el primer grupo. \r\n",
        "\r\n",
        "Por tanto serían $b$ elementos a elegir de un conjunto de $(n-b)$, y por tanto sería el número binomial $C(n-b, b)$\r\n",
        "Para el grupo k-ésimo, estará formado por los b elementos a elegir entre $(n-(k-1)b)$, y por tanto sería $C(n-(k-1)b, b)$.\r\n",
        "\r\n",
        "Sabiendo que $$ C(n,b) = \\frac{n!}{(n-b)! \\cdot b!}$$\r\n",
        "\r\n",
        "Deducimos el total de sesiones posibles:\r\n",
        "$$s_{t}(n) = C(n-(k-1)b,b) = \\prod_{i=1}^{k} \\frac{(n-(k-1)b)!}{(n-kb)! \\cdot b!}$$\r\n",
        "\r\n",
        "$$s_{t}(n) = \\frac{n!}{(n-b)! \\cdot b!}.\\frac{(n-b)!}{(n-2b)! \\cdot b!}. . .\\frac{(n-(k-1)b)!}{(n-kb)! \\cdot b!}$$\r\n",
        "\r\n",
        "Para simplificar, se puede ver que en el denominador de la primera fracción aparece $(n-b)!$, que se simplifica con el numerador de la siguiente, y lo mismo pasa en cada iteración, quedando lo siguiente:\r\n",
        "\r\n",
        "$$s_{t}(n) = \\frac{n!}{b!}.\\frac{1}{b!}.\\frac{1}{b!} . .\\frac{1}{(n-kb)! \\cdot b!}$$\r\n",
        "\r\n",
        "Como $n=k.b$, el último factorial es el factorial de 0, quedando simplemente:\r\n",
        "\r\n",
        "$$s_{t}(n) = \\frac{n!}{(b!)^k} $$\r\n",
        "\r\n",
        "En este punto, es necesario tener en cuenta que el orden de la agrupación de tomas por sesión es irrelevante (una vez definidas los k grupos, es indistinto cuál va en cada \"posición\"). \r\n",
        "\r\n",
        "Para eliminar todas esas posibilidades tenemos que eliminar esas permutaciones de múltiples maneras de seleccionar los grupos de tomas: Como debe realizarse $k$ agrupaciones, que se pueden combinar de $k!$ maneras, se debe dividir por dicho factor para obtener las posibles combinaciones de agrupaciones totales, las soluciones únicas posibles:\r\n",
        "\r\n",
        "$$S_{u}(n) = \\frac{n!}{k!(b!)^k} $$"
      ]
    },
    {
      "cell_type": "code",
      "metadata": {
        "colab": {
          "base_uri": "https://localhost:8080/"
        },
        "id": "wHwhM0CZEOso",
        "outputId": "b7b90326-045c-4397-9f7a-cca63ec088f7"
      },
      "source": [
        "def cant_soluciones(n,b):   \r\n",
        "  if n == 0 or n == 1:\r\n",
        "    return 1\r\n",
        "\r\n",
        "  # try:       \r\n",
        "  #   return memo[n]   \r\n",
        "  # except KeyError:       \r\n",
        "  resultado = factorial(n) / (factorial(n/b)*pow(factorial(b),n/b) )     \r\n",
        "    # memo[n] = resultado               \r\n",
        "  return resultado\r\n",
        "\r\n",
        "num_soluciones=cant_soluciones(30,6)\r\n",
        "print('Existen %s soluciones' % (\"{:e}\".format(num_soluciones)))"
      ],
      "execution_count": null,
      "outputs": [
        {
          "output_type": "stream",
          "text": [
            "Existen 1.142395e+16 soluciones\n"
          ],
          "name": "stdout"
        }
      ]
    },
    {
      "cell_type": "markdown",
      "metadata": {
        "id": "Tjre7w7Pyq4D"
      },
      "source": [
        "Si bien se tienen un espacio de soluciones mucho menor, las mismas difererirán en costo, puesto que el número de actores en cada sesión puede no ser el óptimo.\r\n",
        "\r\n",
        "---"
      ]
    },
    {
      "cell_type": "markdown",
      "metadata": {
        "id": "dzynfVJahHoY"
      },
      "source": [
        "###Modelo para el espacio de soluciones<br>\n",
        "* **¿Cual es la estructura de datos que mejor se adapta al problema? Argumentalo (Es posible que hayas elegido una al principio y veas la necesidad de cambiar)**\n",
        "\n",
        "Teniendo en cuenta que existen sesiones y tomas, y que estas variables tienen una relación de pertenencia entre sí, uno podría pensar múltiples maneras de agrupar los datos para trabajarlos de la manera más amigable posible.\n",
        "\n",
        "Se podrían armar listas de tomas de cada una de las sesiones que, a su vez, se agrupen, en otra lista de sesiones totales, de tal manera de siempre recorrer las tomas de cada sesión y luego en un nivel superior las sesiones. El problema de esta forma de agrupar los datos, es que en cada algoritmo que implemente tendré que necesariamente recorrer en dos niveles de bucles, forzando una complejidad mayor.\n",
        "\n",
        "Otra forma sería tener una lista con todas las tomas, y usar el número de tomas en cada iteración como el indicador indirecto de la cantidad total de sesiones, indicando incluso si está completa o no la última sesión (simplemente haciendo un resto `tamaño_solución % tomas_por_sesión` al operar)."
      ]
    },
    {
      "cell_type": "markdown",
      "metadata": {
        "id": "7Z9U2W7bi-XS"
      },
      "source": [
        "Según el modelo para el espacio de soluciones<br>\n",
        "* **¿Cual es la función objetivo?**\n",
        "\n",
        "Respuesta:\n",
        "\n",
        "La función objetivo debe calcular el coste de los actores para terminar la grabación, es decir, para finalizar las 30 tomas. Esto corresponde a sumar el coste de cada sesión, tras contabilizar cuántos actores son necesarios para cada una de ellas.\n",
        "\n",
        "Se podría modelizar la función de la siguiente manera:\n",
        "\n",
        "$$ f(S) = \\sum_{i=1}^{n} \\sum_{j=1}^{m} \\sum_{k=1}^{p}  {c}_{ijk} $$\n",
        "\n",
        "Donde $ f(S)  $ es la función a modelizar, $n$ es el número de sesiones, $m$ el número de tomas por sesión, $p$ el número de actores y $c_{ijk}$ los costos del actor $k$ de la toma $m$ de la sesión $n$.\n",
        "\n",
        "* **¿Es un problema de maximización o minimización?**\n",
        "\n",
        "Es un **problema de minimización**, siendo el coste de los actores la variable a minimizar, lo cual está expresado en la función objetivo. "
      ]
    },
    {
      "cell_type": "markdown",
      "metadata": {
        "id": "hBalWLM7j1_d"
      },
      "source": [
        "Respuesta (código)"
      ]
    },
    {
      "cell_type": "code",
      "metadata": {
        "id": "pDA-rg3Gj5Lz"
      },
      "source": [
        "def calcular_costo(solucion: tuple, max_tomas: int, costos: tuple) -> int:\r\n",
        "    \"\"\"\r\n",
        "    Calcula el costo de una única solución.\r\n",
        "\r\n",
        "    :solucion: una lista de tomas, representando una solución completa o parcial.\r\n",
        "    :max_tomas: el número máximo de tomas por sesión.\r\n",
        "    :costos: una lista bidimensional de todas las tomas con sus correspondientes actores (equivalen a los costos de las tomas).\r\n",
        "\r\n",
        "    :return: el costo de la solución.\r\n",
        "    \"\"\"\r\n",
        "    # Costo total de la solución.\r\n",
        "    costo_solucion = 0\r\n",
        "    # Contador de tomas por sesión.\r\n",
        "    cuenta_tomas = 0\r\n",
        "    costo_sesion = None\r\n",
        "    sesion_completa = False\r\n",
        "\r\n",
        "    for toma in solucion:\r\n",
        "        cuenta_tomas += 1\r\n",
        "        # Evalúa si cada sesión se ha completado.\r\n",
        "        sesion_completa = cuenta_tomas == max_tomas\r\n",
        "        costo_toma = np.array(costos[toma])   #Revisa el costo de los actores en cada toma\r\n",
        "        # Usamos el operador bitwise 'or' para unir los costos por cada sesión\r\n",
        "        # A cada actor se le paga lo mismo haga 1 o varias tomas en cada sesión\r\n",
        "        costo_sesion = costo_toma if costo_sesion is None else costo_sesion | costo_toma\r\n",
        "\r\n",
        "        ### Si para la toma 27, por ejemplo, se tiene 27,0,0,0,1,1,0,0,0,0,0\r\n",
        "        ### Y en la sesión ya estaba la toma 28       28,1,0,0,1,0,0,0,0,0,0 \r\n",
        "        ### En costo_sesion, tendríamos lo siguiente:    1,0,0,1,1,0,0,0,0,0\r\n",
        "\r\n",
        "        if sesion_completa:\r\n",
        "            # El costo total es la suma de los costos de las distintas sesiones.\r\n",
        "            costo_solucion += costo_sesion.sum() \r\n",
        "            #Como el costo de la sesión tiene todos los actores involucrados, \r\n",
        "            # es necesario sumarlos antes de agregarlos al costo total de la solución.\r\n",
        "            \r\n",
        "            #Reinicio de contadores para próxima sesión (sesión ya completa)\r\n",
        "            costo_sesion = None\r\n",
        "            cuenta_tomas = 0\r\n",
        "\r\n",
        "    # Si la solución no está completa aún, suma la última sesión\r\n",
        "    if not sesion_completa and costo_sesion is not None:\r\n",
        "        costo_solucion += costo_sesion.sum()\r\n",
        "\r\n",
        "    return costo_solucion\r\n"
      ],
      "execution_count": null,
      "outputs": []
    },
    {
      "cell_type": "markdown",
      "metadata": {
        "id": "rlnTYgY1j6I2"
      },
      "source": [
        "### Diseña un algoritmo para resolver el problema por fuerza bruta"
      ]
    },
    {
      "cell_type": "markdown",
      "metadata": {
        "id": "70rDgxYXkC8r"
      },
      "source": [
        "Respuesta"
      ]
    },
    {
      "cell_type": "code",
      "metadata": {
        "id": "CJb5sQ0qkENy"
      },
      "source": [
        "\r\n",
        "def fuerza_bruta(costos: tuple, max_tomas: int):\r\n",
        "    # Genera todas las soluciones para todas las combinaciones de tomas.\r\n",
        "    soluciones = siguiente_nivel(costos)\r\n",
        "\r\n",
        "    mejor_solucion = None\r\n",
        "    costo_mejor_solucion = None\r\n",
        "    # Verifica todas las soluciones para encontrar la mejor.\r\n",
        "    for solucion in soluciones:\r\n",
        "        costo_solucion = calcular_costo(solucion, max_tomas, costos)\r\n",
        "        if mejor_solucion is None or costo_solucion < costo_mejor_solucion:\r\n",
        "            mejor_solucion = solucion\r\n",
        "            costo_mejor_solucion = costo_solucion\r\n",
        "\r\n",
        "    return mejor_solucion\r\n",
        "\r\n",
        "\r\n",
        "def siguiente_nivel(costos: tuple, solucion: tuple = ()):\r\n",
        "    \"\"\"\r\n",
        "    A partir de una solución parcial, generar todas las combinaciones restantes\r\n",
        "    \"\"\"\r\n",
        "    hijos = []\r\n",
        "    for id in range(len(costos)):\r\n",
        "        # No duplicar tomas en cada solución.\r\n",
        "        if id in solucion:\r\n",
        "            continue\r\n",
        "\r\n",
        "        solucion_local = solucion + (id,)\r\n",
        "        if len(solucion_local) < len(costos):\r\n",
        "            # Agrega niveles hasta que hasta alcanzar la longitud de la solución.\r\n",
        "            hijos += siguiente_nivel(costos, solucion_local)\r\n",
        "        else:\r\n",
        "            hijos.append(solucion_local)\r\n",
        "\r\n",
        "    return hijos"
      ],
      "execution_count": null,
      "outputs": []
    },
    {
      "cell_type": "markdown",
      "metadata": {
        "id": "tgrnsC2nkFa8"
      },
      "source": [
        "* **Calcula la complejidad del algoritmo por fuerza bruta**"
      ]
    },
    {
      "cell_type": "markdown",
      "metadata": {
        "id": "9eUd3xwckP68"
      },
      "source": [
        "Respuesta\r\n",
        "\r\n",
        "El algoritmo por fuerza bruta genera y explora el espacio de todas las soluciones posibles, revisando una a una su coste, aunque estén duplicadas (es decir, aunque haya una solución que ya haya sido explorada en otro orden de generación), lo que representa $n!$ soluciones y, por tanto, tiene una complejidad $O(n!)$."
      ]
    },
    {
      "cell_type": "markdown",
      "metadata": {
        "id": "txbrmLmskReM"
      },
      "source": [
        "### Diseña un algoritmo que mejore la complejidad del algoritmo por fuerza bruta. \r\n",
        "**Argumenta porque crees que mejora el algoritmo por fuerza bruta**"
      ]
    },
    {
      "cell_type": "markdown",
      "metadata": {
        "id": "hLrVwt5QkZPD"
      },
      "source": [
        "Respuesta\r\n",
        "\r\n",
        "Si bien se podría pensar en un algoritmo de ramificación y poda, con la idea de descartar una gran parte de las soluciones que estimemos tener un peor resultado, **se optará por una técnica metaheurística**, por varios motivos que la posicionan muy bien frente al método voraz:\r\n",
        "\r\n",
        "1. El problema lo permite, puesto que **tenemos una función de coste que puede evaluar cualquier solución inmediatamente**, sin que necesitamos acercarnos secuencialmente a la solución o con alguna restricción que imposibilite esto.\r\n",
        "\r\n",
        "2. El método voraz revisa un número inadmisible de soluciones sin necesidad de que ellas estén cerca de la solución óptima. Si bien es posible que con este método heurístico no se obtenga la solución más óptima, por no ser determinista, lo mismo incluso puede suceder con métodos deterministas como ramificación y poda si se quiere obtener una solución en un tiempo computacional realizable. Esto es, **con seguridad se obtendrá una solución eficiente y aceptable**. \r\n",
        "\r\n",
        "3. Tiene una **relativa facilidad de implementación**, a lo que se suma un componente lúdico de la mejora continua del proceso metaheurística.\r\n",
        "\r\n",
        "4. El interés académico en indagar en estas técnicas, presentada en las últimas sesiones de la asignatura, está muy vigente en la bibliografía consultada. El refrán \"mejor pájaro en mano que cien volando\", resume la filosofía detrás de estás técnicas, que bien implementadas pueden incluso llegar a la solución óptima.\r\n",
        "\r\n",
        "Se utilizará una técnica mixta, basada en los siguientes métodos:\r\n",
        "\r\n",
        "1. **Búsqueda aleatoria**, para recorrer una buena variedad de soluciones y diversificar la búsqueda, \r\n",
        "2. **Recocido simulado (Simulated Annealing)**, para intensificar al final, haciendo soluciones vecinas aleatorias que mejoren el costo.\r\n",
        "\r\n"
      ]
    },
    {
      "cell_type": "markdown",
      "metadata": {
        "id": "blAAYTY5LMsB"
      },
      "source": [
        "#### Desarrollo de Algoritmo propuesto: Búsqueda Aleatoria con Recocido Simulado"
      ]
    },
    {
      "cell_type": "code",
      "metadata": {
        "id": "6MGgt4czRdx_"
      },
      "source": [
        "import random\r\n",
        "\r\n",
        "def generar_solucion(costos):\r\n",
        "  \"\"\"\r\n",
        "  Genera una solución aleatoria a partir de los datos de los costos de actores\r\n",
        "  \"\"\"\r\n",
        "  tomas_costos = [(i,elem) for i,elem in enumerate(costos)]\r\n",
        "  sol_temp = list(tomas_costos)\r\n",
        "  random.shuffle(sol_temp)\r\n",
        "  sol_prueba = tuple(i for i,costo in sol_temp)\r\n",
        "  return sol_prueba\r\n"
      ],
      "execution_count": null,
      "outputs": []
    },
    {
      "cell_type": "code",
      "metadata": {
        "colab": {
          "base_uri": "https://localhost:8080/"
        },
        "id": "zl3cojdaS-vY",
        "outputId": "a384fec5-63ed-45f1-d978-d658bf4662fd"
      },
      "source": [
        "def busqueda_aleatoria(costos, max_tomas, N):\r\n",
        "  \"\"\"\r\n",
        "  Busca una solución aleatoria minimizando el costo de la función objetivo\r\n",
        "  \"\"\"\r\n",
        "  mejor_solucion = []\r\n",
        "  mejor_costo = 35                         #Inicializamos con un valor alto\r\n",
        "  \r\n",
        "  for i in range(N):                                #Criterio de parada: repetir N veces pero podemos incluir otros\r\n",
        "    solucion = generar_solucion(costos)                #Genera una solucion aleatoria\r\n",
        "    costo = calcular_costo(solucion, max_tomas, costos)  #Calcula el valor objetivo(distancia total)\r\n",
        "    \r\n",
        "    if costo < mejor_costo:                 #Compara con la mejor obtenida hasta ahora\r\n",
        "      mejor_solucion = solucion\r\n",
        "      mejor_costo = costo\r\n",
        "      \r\n",
        "      \r\n",
        "  print(\"Mejor solución aleatoria:\" , mejor_solucion) \r\n",
        "  print(\"         Costo:\" , mejor_costo) \r\n",
        "  return mejor_solucion\r\n",
        "\r\n",
        "solucion = busqueda_aleatoria(costos, max_tomas, 20000)"
      ],
      "execution_count": null,
      "outputs": [
        {
          "output_type": "stream",
          "text": [
            "Mejor solución aleatoria: (11, 8, 18, 4, 20, 21, 2, 26, 10, 14, 6, 3, 22, 28, 19, 7, 17, 12, 23, 5, 13, 0, 9, 25, 16, 24, 29, 1, 27, 15)\n",
            "         Costo: 32\n"
          ],
          "name": "stdout"
        }
      ]
    },
    {
      "cell_type": "code",
      "metadata": {
        "colab": {
          "base_uri": "https://localhost:8080/"
        },
        "id": "tjCnJYq9UiY0",
        "outputId": "1865514f-7eff-4350-a800-f2964a27a0f3"
      },
      "source": [
        "\r\n",
        "def genera_vecina_aleatorio(solucion):\r\n",
        "  #Generador de soluciones vecinas: 2-opt (intercambiar 2 nodos) Si hay N nodos se generan (N-1)x(N-2)/2 soluciones\r\n",
        "\r\n",
        "  i,j = sorted(random.sample( range(1,len(solucion)) , 2))\r\n",
        "     \r\n",
        "  #Se genera una nueva solución intercambiando los dos nodos i,j:\r\n",
        "  #  (usamos el operador + que para listas en python las concatena) : ej.: [1,2] + [3] = [1,2,3]\r\n",
        "  sol_list = list(solucion)\r\n",
        "  type(sol_list)\r\n",
        "  vecina = tuple(sol_list[:i] + [sol_list[j]] + sol_list[i+1:j] + [sol_list[i]] + sol_list[j+1:])\r\n",
        "  \r\n",
        "  return vecina\r\n",
        "\r\n",
        "print(\"Costo Solucion Inicial:\" , calcular_costo(solucion, max_tomas,costos))\r\n",
        " \r\n",
        "nueva_solucion = genera_vecina_aleatorio(solucion)\r\n",
        "print(nueva_solucion)\r\n",
        "print(\"Costo Solucion Local:\", calcular_costo(nueva_solucion, max_tomas,costos))\r\n"
      ],
      "execution_count": null,
      "outputs": [
        {
          "output_type": "stream",
          "text": [
            "Costo Solucion Inicial: 32\n",
            "(11, 8, 18, 29, 20, 21, 2, 26, 10, 14, 6, 3, 22, 28, 19, 7, 17, 12, 23, 5, 13, 0, 9, 25, 16, 24, 4, 1, 27, 15)\n",
            "Costo Solucion Local: 33\n"
          ],
          "name": "stdout"
        }
      ]
    },
    {
      "cell_type": "code",
      "metadata": {
        "id": "4Baz-k6kd-Jz"
      },
      "source": [
        "import math\r\n",
        "#Funcion de probabilidad para aceptar peores soluciones\r\n",
        "#Necesaria para el método del Recocido Simulado\r\n",
        "def probabilidad(T,d):\r\n",
        "  if random.random() <  math.exp( -1*d / T)  :\r\n",
        "    return True\r\n",
        "  else:\r\n",
        "    return False\r\n",
        "\r\n",
        "#Funcion de descenso de temperatura\r\n",
        "def bajar_temperatura(T):\r\n",
        "  return T*0.99"
      ],
      "execution_count": null,
      "outputs": []
    },
    {
      "cell_type": "code",
      "metadata": {
        "colab": {
          "base_uri": "https://localhost:8080/"
        },
        "id": "oyY3gAg4qg3G",
        "outputId": "3c2350be-c0b4-4325-c40c-3f1c3ae39073"
      },
      "source": [
        "import copy\r\n",
        "def recocido_simulado(solucion, max_tomas, costos, TEMPERATURA):\r\n",
        "  \"\"\"\r\n",
        "  Tiene por objetivo mejorar la solución aleatoria que se le ingrese, aceptando\r\n",
        "  peores soluciones para permitir diversificar mientras que no encontremos \r\n",
        "  una solución óptima\r\n",
        "  Depende la TEMPERATURA(T) y de de la diferencia de costos de las soluciones\r\n",
        "  A mayor temperatura => mayor probabilidad de aceptar peores soluciones\r\n",
        "  A menor diferencia de costes => mayor probabilidad de aceptar peores soluciones\r\n",
        "  \"\"\"\r\n",
        "  solucion_referencia = solucion\r\n",
        "  costo_referencia = calcular_costo(solucion_referencia, max_tomas,costos)\r\n",
        "  \r\n",
        "  mejor_solucion = []\r\n",
        "  mejor_costo = 100\r\n",
        "    \r\n",
        "  K=0\r\n",
        "  while TEMPERATURA > .0001:\r\n",
        "    K+=1\r\n",
        "    #Genera una solución vecina\r\n",
        "    vecina = genera_vecina_aleatorio(solucion_referencia)\r\n",
        "    \r\n",
        "    #Calcula su valor(costo)\r\n",
        "    costo_vecina = calcular_costo(vecina, max_tomas,costos)\r\n",
        "          \r\n",
        "    #Si es la mejor solución de todas se guarda\r\n",
        "    if costo_vecina < costo_referencia:\r\n",
        "        mejor_solucion = vecina\r\n",
        "        mejor_costo = costo_vecina\r\n",
        "    \r\n",
        "    #Si la nueva vecina es mejor se cambia  \r\n",
        "    #Si es peor se cambia según una probabilidad que depende de T y delta(distancia_referencia - distancia_vecina)\r\n",
        "    if costo_vecina < costo_referencia or probabilidad(TEMPERATURA, abs(costo_referencia - costo_vecina) ) :\r\n",
        "      solucion_referencia = copy.deepcopy(vecina)\r\n",
        "      costo_referencia = costo_vecina\r\n",
        "\r\n",
        "    #Bajamos la temperatura\r\n",
        "    TEMPERATURA = bajar_temperatura(TEMPERATURA)\r\n",
        " \r\n",
        "  print(\"La mejor solución encontrada del recocido simulado es \" , end=\"\")\r\n",
        "  print(mejor_solucion)\r\n",
        "  print(\"con un costo total de \" , end=\"\")\r\n",
        "  print(mejor_costo)\r\n",
        "  print(\"en \" + str(K) + \" iteraciones\")\r\n",
        "  return mejor_solucion\r\n",
        "\r\n",
        "sol  = recocido_simulado(nueva_solucion,max_tomas,costos, 10000000)"
      ],
      "execution_count": null,
      "outputs": [
        {
          "output_type": "stream",
          "text": [
            "La mejor solución encontrada del recocido simulado es (11, 5, 9, 6, 25, 1, 12, 19, 24, 15, 18, 0, 21, 14, 2, 26, 10, 3, 29, 20, 7, 4, 8, 27, 17, 23, 16, 13, 22, 28)\n",
            "con un costo total de 29\n",
            "en 2521 iteraciones\n"
          ],
          "name": "stdout"
        }
      ]
    },
    {
      "cell_type": "code",
      "metadata": {
        "id": "KWw_ni0SOh-V"
      },
      "source": [
        "def busqueda_con_recocido(costos, max_tomas,TEMPERATURA,N,repeticiones: int=3):\r\n",
        "  \"\"\"\r\n",
        "  Función que integra los pasos del método diseñado.\r\n",
        "  \"\"\"\r\n",
        "  mejor_solucion = []\r\n",
        "  mejor_costo = 100\r\n",
        "  for repeticion in range(repeticiones):\r\n",
        "    solucion = busqueda_aleatoria(costos, max_tomas, N)\r\n",
        "    sol_recocida = recocido_simulado(solucion, max_tomas,costos,TEMPERATURA)\r\n",
        "\r\n",
        "    costo_recocida = calcular_costo(sol_recocida, max_tomas,costos)\r\n",
        "          \r\n",
        "    #Si es la mejor solución de todas se guarda\r\n",
        "    if costo_recocida < mejor_costo:\r\n",
        "      mejor_solucion = sol_recocida\r\n",
        "      mejor_costo = costo_recocida\r\n",
        "  \r\n",
        "  print(\"La mejor solución encontrada de la búsqueda aleatoria con recocido, en \" + str(repeticiones) + \"repeticiones, es \" , end=\"\")\r\n",
        "  print(mejor_solucion)\r\n",
        "  print(\"con un costo total de \" , end=\"\")\r\n",
        "  print(mejor_costo)\r\n",
        "  return mejor_solucion\r\n",
        "\r\n"
      ],
      "execution_count": null,
      "outputs": []
    },
    {
      "cell_type": "markdown",
      "metadata": {
        "id": "kV59PbOVSGoT"
      },
      "source": [
        "**Se aplica el algoritmo de Búsqueda Aleatoria con Recocido Simulado** \r\n",
        "\r\n",
        "*Datos cargados previamente. Se preparan los parámetros del algoritmo.*"
      ]
    },
    {
      "cell_type": "code",
      "metadata": {
        "colab": {
          "base_uri": "https://localhost:8080/"
        },
        "id": "600wC8WnP7R8",
        "outputId": "ecf6d597-031a-43b1-bd24-f37af1580738"
      },
      "source": [
        "%%time\r\n",
        "\r\n",
        "mejor_solucion_heuristica = busqueda_con_recocido(costos,max_tomas,10000000,20000,20)"
      ],
      "execution_count": 20,
      "outputs": [
        {
          "output_type": "stream",
          "text": [
            "Mejor solución aleatoria: (18, 13, 26, 9, 6, 8, 10, 4, 16, 25, 19, 12, 15, 28, 24, 11, 1, 17, 2, 0, 29, 21, 5, 27, 22, 7, 3, 14, 23, 20)\n",
            "         Costo: 33\n",
            "La mejor solución encontrada del recocido simulado es (18, 19, 1, 26, 13, 28, 12, 6, 8, 21, 22, 29, 14, 16, 3, 23, 10, 2, 7, 15, 24, 27, 20, 4, 17, 5, 11, 9, 25, 0)\n",
            "con un costo total de 30\n",
            "en 2521 iteraciones\n",
            "Mejor solución aleatoria: (10, 25, 1, 3, 21, 12, 14, 29, 7, 2, 6, 5, 24, 9, 0, 19, 15, 26, 28, 23, 22, 13, 16, 17, 11, 4, 8, 18, 27, 20)\n",
            "         Costo: 32\n",
            "La mejor solución encontrada del recocido simulado es (10, 15, 19, 1, 5, 24, 26, 12, 2, 14, 3, 4, 6, 9, 25, 0, 11, 28, 21, 7, 8, 29, 23, 27, 17, 22, 20, 18, 16, 13)\n",
            "con un costo total de 29\n",
            "en 2521 iteraciones\n",
            "Mejor solución aleatoria: (19, 18, 1, 22, 26, 12, 10, 2, 20, 4, 29, 3, 0, 16, 14, 27, 28, 17, 11, 23, 9, 7, 21, 13, 25, 5, 15, 6, 8, 24)\n",
            "         Costo: 32\n",
            "La mejor solución encontrada del recocido simulado es (19, 12, 26, 16, 18, 22, 1, 0, 28, 20, 10, 4, 27, 2, 3, 5, 29, 14, 9, 6, 13, 25, 8, 7, 15, 24, 21, 17, 23, 11)\n",
            "con un costo total de 30\n",
            "en 2521 iteraciones\n",
            "Mejor solución aleatoria: (3, 27, 4, 14, 29, 24, 2, 13, 11, 26, 23, 5, 0, 12, 1, 6, 8, 22, 16, 19, 17, 15, 28, 18, 25, 7, 21, 10, 9, 20)\n",
            "         Costo: 32\n",
            "La mejor solución encontrada del recocido simulado es (3, 19, 14, 2, 12, 1, 11, 9, 5, 26, 7, 25, 21, 20, 4, 28, 0, 10, 16, 23, 18, 17, 13, 22, 24, 29, 8, 6, 27, 15)\n",
            "con un costo total de 29\n",
            "en 2521 iteraciones\n",
            "Mejor solución aleatoria: (15, 24, 7, 26, 27, 6, 23, 16, 21, 1, 12, 19, 28, 5, 17, 0, 22, 29, 2, 14, 25, 10, 20, 3, 11, 9, 4, 8, 13, 18)\n",
            "         Costo: 33\n",
            "La mejor solución encontrada del recocido simulado es (15, 24, 0, 19, 16, 29, 13, 7, 11, 23, 20, 21, 28, 22, 17, 9, 18, 25, 6, 27, 5, 26, 8, 12, 14, 1, 2, 10, 4, 3)\n",
            "con un costo total de 29\n",
            "en 2521 iteraciones\n",
            "Mejor solución aleatoria: (14, 2, 28, 8, 3, 20, 17, 0, 7, 4, 25, 23, 12, 24, 26, 15, 5, 16, 18, 13, 11, 21, 22, 9, 6, 19, 29, 10, 1, 27)\n",
            "         Costo: 33\n",
            "La mejor solución encontrada del recocido simulado es (14, 17, 23, 7, 20, 13, 19, 25, 12, 18, 22, 26, 11, 6, 9, 29, 28, 0, 4, 2, 3, 5, 10, 1, 24, 16, 21, 8, 15, 27)\n",
            "con un costo total de 30\n",
            "en 2521 iteraciones\n",
            "Mejor solución aleatoria: (23, 22, 11, 4, 20, 18, 7, 17, 10, 2, 14, 3, 12, 8, 15, 27, 24, 21, 9, 25, 0, 5, 6, 28, 19, 29, 26, 1, 13, 16)\n",
            "         Costo: 31\n",
            "La mejor solución encontrada del recocido simulado es (23, 18, 16, 13, 17, 22, 26, 15, 24, 8, 27, 12, 5, 21, 0, 4, 10, 19, 20, 14, 3, 2, 28, 7, 1, 9, 6, 11, 25, 29)\n",
            "con un costo total de 27\n",
            "en 2521 iteraciones\n",
            "Mejor solución aleatoria: (28, 8, 7, 25, 26, 9, 22, 5, 12, 21, 27, 0, 20, 24, 18, 11, 4, 29, 23, 17, 19, 15, 1, 13, 2, 3, 10, 6, 14, 16)\n",
            "         Costo: 32\n",
            "La mejor solución encontrada del recocido simulado es (28, 13, 0, 19, 11, 7, 17, 23, 20, 9, 10, 25, 27, 26, 16, 1, 18, 22, 15, 5, 8, 24, 21, 6, 2, 29, 14, 4, 3, 12)\n",
            "con un costo total de 29\n",
            "en 2521 iteraciones\n",
            "Mejor solución aleatoria: (11, 29, 17, 27, 8, 7, 0, 16, 25, 19, 24, 5, 6, 21, 20, 23, 4, 18, 12, 15, 26, 28, 13, 1, 2, 14, 22, 10, 3, 9)\n",
            "         Costo: 33\n",
            "La mejor solución encontrada del recocido simulado es (11, 29, 23, 17, 8, 27, 21, 0, 1, 10, 4, 5, 20, 3, 2, 14, 7, 28, 13, 22, 25, 9, 18, 16, 19, 6, 26, 12, 15, 24)\n",
            "con un costo total de 29\n",
            "en 2521 iteraciones\n",
            "Mejor solución aleatoria: (18, 1, 16, 22, 13, 17, 11, 12, 19, 25, 15, 9, 29, 3, 14, 4, 8, 20, 5, 24, 28, 6, 2, 7, 26, 10, 21, 0, 27, 23)\n",
            "         Costo: 33\n",
            "La mejor solución encontrada del recocido simulado es (18, 19, 29, 12, 16, 25, 10, 28, 11, 21, 20, 0, 1, 15, 27, 24, 8, 5, 13, 17, 23, 7, 22, 9, 26, 2, 6, 4, 14, 3)\n",
            "con un costo total de 29\n",
            "en 2521 iteraciones\n",
            "Mejor solución aleatoria: (24, 15, 28, 7, 8, 9, 3, 27, 14, 4, 12, 2, 26, 18, 0, 1, 25, 29, 5, 22, 6, 20, 10, 19, 11, 17, 21, 23, 13, 16)\n",
            "         Costo: 31\n",
            "La mejor solución encontrada del recocido simulado es (24, 8, 26, 27, 15, 29, 10, 3, 5, 12, 19, 4, 1, 6, 14, 0, 2, 22, 17, 21, 13, 20, 7, 11, 28, 25, 9, 16, 18, 23)\n",
            "con un costo total de 30\n",
            "en 2521 iteraciones\n",
            "Mejor solución aleatoria: (26, 8, 21, 0, 27, 16, 28, 2, 17, 14, 25, 23, 3, 11, 9, 19, 20, 5, 15, 7, 29, 24, 13, 18, 22, 12, 10, 4, 1, 6)\n",
            "         Costo: 33\n",
            "La mejor solución encontrada del recocido simulado es (26, 12, 16, 27, 19, 23, 10, 7, 20, 9, 17, 25, 8, 22, 21, 15, 24, 18, 1, 6, 28, 11, 13, 0, 14, 2, 5, 29, 3, 4)\n",
            "con un costo total de 29\n",
            "en 2521 iteraciones\n",
            "Mejor solución aleatoria: (3, 21, 1, 10, 4, 0, 11, 7, 9, 23, 13, 18, 25, 12, 16, 28, 17, 19, 29, 6, 26, 20, 27, 5, 22, 2, 24, 8, 14, 15)\n",
            "         Costo: 32\n",
            "La mejor solución encontrada del recocido simulado es (3, 2, 4, 10, 0, 14, 25, 23, 9, 20, 28, 7, 18, 15, 12, 19, 1, 22, 11, 21, 13, 16, 17, 24, 6, 8, 26, 5, 29, 27)\n",
            "con un costo total de 29\n",
            "en 2521 iteraciones\n",
            "Mejor solución aleatoria: (28, 0, 8, 19, 11, 5, 21, 3, 2, 10, 14, 4, 16, 18, 17, 7, 22, 27, 29, 12, 13, 1, 25, 23, 24, 26, 20, 15, 9, 6)\n",
            "         Costo: 32\n",
            "La mejor solución encontrada del recocido simulado es (28, 18, 12, 22, 19, 23, 0, 16, 26, 1, 6, 8, 11, 24, 21, 27, 15, 7, 9, 17, 13, 25, 20, 10, 29, 14, 5, 4, 2, 3)\n",
            "con un costo total de 29\n",
            "en 2521 iteraciones\n",
            "Mejor solución aleatoria: (15, 0, 8, 22, 24, 1, 28, 2, 6, 29, 9, 5, 18, 17, 25, 11, 23, 19, 12, 21, 26, 27, 4, 10, 20, 7, 3, 13, 14, 16)\n",
            "         Costo: 32\n",
            "La mejor solución encontrada del recocido simulado es (15, 5, 16, 24, 1, 0, 4, 3, 26, 14, 6, 2, 10, 25, 9, 7, 18, 20, 13, 19, 23, 12, 29, 28, 21, 27, 8, 17, 22, 11)\n",
            "con un costo total de 29\n",
            "en 2521 iteraciones\n",
            "Mejor solución aleatoria: (0, 10, 25, 26, 21, 27, 23, 17, 9, 22, 7, 16, 2, 12, 6, 3, 8, 5, 4, 20, 13, 18, 24, 15, 29, 14, 11, 28, 19, 1)\n",
            "         Costo: 32\n",
            "La mejor solución encontrada del recocido simulado es (0, 25, 28, 12, 9, 11, 5, 6, 29, 24, 8, 15, 27, 26, 16, 19, 1, 22, 18, 20, 13, 7, 17, 23, 4, 21, 14, 2, 10, 3)\n",
            "con un costo total de 28\n",
            "en 2521 iteraciones\n",
            "Mejor solución aleatoria: (7, 10, 8, 21, 4, 20, 9, 0, 28, 11, 12, 27, 18, 24, 15, 29, 22, 26, 6, 14, 25, 5, 2, 3, 19, 23, 1, 13, 16, 17)\n",
            "         Costo: 33\n",
            "La mejor solución encontrada del recocido simulado es (7, 29, 28, 5, 8, 26, 10, 4, 20, 0, 21, 11, 2, 3, 14, 24, 6, 15, 17, 9, 13, 23, 16, 25, 18, 22, 19, 27, 12, 1)\n",
            "con un costo total de 29\n",
            "en 2521 iteraciones\n",
            "Mejor solución aleatoria: (5, 20, 1, 6, 11, 21, 23, 27, 17, 28, 13, 26, 14, 8, 19, 0, 3, 2, 22, 16, 9, 18, 7, 25, 12, 15, 10, 29, 4, 24)\n",
            "         Costo: 32\n",
            "La mejor solución encontrada del recocido simulado es (5, 11, 25, 28, 9, 21, 10, 19, 1, 0, 12, 2, 6, 7, 29, 27, 20, 26, 18, 16, 17, 22, 13, 23, 15, 8, 24, 3, 14, 4)\n",
            "con un costo total de 29\n",
            "en 2521 iteraciones\n",
            "Mejor solución aleatoria: (24, 19, 26, 21, 18, 1, 7, 23, 20, 9, 28, 22, 15, 25, 29, 17, 13, 27, 16, 6, 5, 8, 11, 0, 3, 2, 4, 14, 10, 12)\n",
            "         Costo: 33\n",
            "La mejor solución encontrada del recocido simulado es (24, 20, 4, 15, 28, 5, 9, 7, 25, 13, 11, 8, 6, 1, 19, 21, 26, 12, 14, 10, 22, 0, 3, 2, 17, 27, 16, 29, 23, 18)\n",
            "con un costo total de 30\n",
            "en 2521 iteraciones\n",
            "Mejor solución aleatoria: (25, 9, 14, 3, 17, 2, 18, 11, 13, 20, 10, 23, 12, 21, 7, 19, 1, 28, 4, 16, 29, 27, 26, 0, 24, 6, 8, 15, 5, 22)\n",
            "         Costo: 33\n",
            "La mejor solución encontrada del recocido simulado es (25, 17, 1, 21, 11, 9, 27, 7, 29, 12, 5, 28, 0, 26, 6, 19, 10, 4, 14, 2, 8, 24, 15, 3, 20, 16, 18, 23, 22, 13)\n",
            "con un costo total de 29\n",
            "en 2521 iteraciones\n",
            "La mejor solución encontrada de la búsqueda aleatoria con recocido, en 20repeticiones, es (23, 18, 16, 13, 17, 22, 26, 15, 24, 8, 27, 12, 5, 21, 0, 4, 10, 19, 20, 14, 3, 2, 28, 7, 1, 9, 6, 11, 25, 29)\n",
            "con un costo total de 27\n",
            "CPU times: user 58.1 s, sys: 50.8 ms, total: 58.1 s\n",
            "Wall time: 58.3 s\n"
          ],
          "name": "stdout"
        }
      ]
    },
    {
      "cell_type": "markdown",
      "metadata": {
        "id": "eGDB4K6uk1iN"
      },
      "source": [
        "* **Calcula la complejidad del algoritmo** "
      ]
    },
    {
      "cell_type": "markdown",
      "metadata": {
        "id": "NhpTh_BPk1ms"
      },
      "source": [
        "Para calcular la complejidad del algoritmo, debo calcular la complejidad de sus etapas:\r\n",
        "1. Búsqueda aleatoria:\r\n",
        "\r\n",
        "[Random.shuffle](https://hg.python.org/cpython/file/8962d1c442a6/Lib/random.py#l256) de Python usa el shuffle de [Fisher-Yates](https://en.wikipedia.org/wiki/Fisher%E2%80%93Yates_shuffle), que se ejecuta en tiempo $O (n)$ y se ha demostrado que es un shuffle perfecto (asumiendo un buen generador de números aleatorios). Itera sobre el array desde la última a la primera posición, cambiando cada valor con uno correspondiente a un índice aleatorio en una posición debajo de éste.\r\n",
        "\r\n",
        " 1.1. Genera una solución aleatoria, usando random.shuffle ($O (n)$). \r\n",
        " \r\n",
        " 1.2. Calcula el costo de la solución ($O (n . m)$) \r\n",
        " \r\n",
        " 1.3. Se repite $N$ veces para generar $N$ soluciones aleatorias, calculando el costo de cada una. \r\n",
        "\r\n",
        " 1.4. Guarda la mejor solución para iniciar el algoritmo de recocido simulado. \r\n",
        "\r\n",
        "Como el procedimiento se repite N veces, y para cada una de las veces se calcula el costo (recorre las $n$ tomas y suma los $m$ actores), tenemos que:\r\n",
        "\r\n",
        "$$Operaciones_{ba}=N.n.n.m => Complejidad=O(N.n^2),$$\r\n",
        "\r\n",
        "siendo $N$ el número de búsquedas o repeticiones de la búsqueda, $m$ la cantidad de actores y $n$ el tamaño de la solución. Ciertamente es un caso de complejidad multivariable, pues como es posible alterar el valor de N, esto incidirá en la complejidad del algoritmo final. \r\n",
        "\r\n",
        "Si se quisiera expresar sólo en función de $n$, para hacer una comparativa con el algoritmo voraz, la misma variaría según el rango de $n$, y el valor de $N$ y $m$. Como $m < n$, podría elegir despreciarla en el mejor de los casos o potenciarla en el peor. \r\n",
        "\r\n",
        "Para valores de $n$ cercanos a $30$, se tendría que\r\n",
        "\r\n",
        "$$ O(n^4) \\geq O(f) \\geq O(n^5)$$\r\n",
        "\r\n",
        "De nuevo, no sería correcto extrapolar este resultado a valores muy distintos de n, y la forma correcta de expresar la Complejidad sería en función de ambas variables, ya que no se trata de constantes multiplicativas sino de hacer las $n$ operaciones $N$ veces.\r\n",
        "\r\n",
        "2. Recocido Simulado:\r\n",
        "\r\n",
        " 2.0. Calculo costo solucion de entrada: $O(n.m)$\r\n",
        " \r\n",
        " 2.1. Generación de solución vecina: \r\n",
        "\r\n",
        " 2.1.1. Selecciona 2 elementos al azar entre n elementos: $O(2n)$\r\n",
        "\r\n",
        " 2.1.2. Los ordena: 2 operaciones\r\n",
        "\r\n",
        " 2.1.3. Reordena la tupla con los índices intercambiados: $O(log (n))$\r\n",
        "\r\n",
        " 2.2. Calcula el costo de la solución vecina. -> $O(n.m)$\r\n",
        "\r\n",
        " 2.3. Mientras la temperatura del circuito está por encima de un umbral ... (he contado I: 2292 iteraciones) -> $O(log (I))$\r\n",
        "\r\n",
        "3. Repite el proceso R veces. -> $O(R)$\r\n",
        "\r\n",
        "\r\n",
        "Entonces, para el paso 2, sería $O (n.m.n.m.(2.n). log(n).(log (I))) \\approx O(n^3.log(n).log (I))$, para\r\n",
        "\r\n",
        "Si se concatenan los 3 pasos, sería igual a $O(R) . O(N.n^2).O(n^3.log (I).log(n))$\r\n",
        "\r\n",
        "Reorganizando,\r\n",
        "\r\n",
        "$O(R.N.n^5.log (I).log(n))$\r\n",
        "\r\n",
        "Sean $R.N = N_R$,  \r\n",
        "\r\n",
        "Se tiene que: $O(N_R.n^5.log (I).log(n))$\r\n",
        "\r\n",
        "Finalmente, la complejidad oscilaría entre:\r\n",
        "\r\n",
        "$$ O(n^5.log(n)) \\geq O(f) \\geq O(n^6.log(n))$$\r\n",
        "\r\n",
        "Si bien el algoritmo puede mejorarse y el cálculo de la complejidad es aproximado, se aprecia la mejora con respecto al algoritmo voraz, de complejidad $n!$\r\n",
        "\r\n",
        "---"
      ]
    },
    {
      "cell_type": "markdown",
      "metadata": {
        "id": "3M6QjTsSkmYe"
      },
      "source": [
        "**Diseña un juego de datos de entrada aleatorios**"
      ]
    },
    {
      "cell_type": "markdown",
      "metadata": {
        "id": "Jc3_OlyNkvjZ"
      },
      "source": [
        "Respuesta"
      ]
    },
    {
      "cell_type": "code",
      "metadata": {
        "id": "sJ-N2etjkyWc",
        "colab": {
          "base_uri": "https://localhost:8080/",
          "height": 377
        },
        "outputId": "2da0f93e-a8c0-4f34-9008-e5b801bde4e0"
      },
      "source": [
        "import random\r\n",
        "\r\n",
        "# Se plantea un máximo de tomas inferior al problema, para mejorar tiempo de ejecución.\r\n",
        "tomastotales = 20\r\n",
        "\r\n",
        "# Número máximo de sesiones.\r\n",
        "sesiones = random.randint(2, int(tomastotales / 2))\r\n",
        "\r\n",
        "# Restricción de número de tomas por sesión.\r\n",
        "tomas_por_sesion = random.randint(2, int(tomastotales / sesiones))\r\n",
        "\r\n",
        "# Número de tomas.\r\n",
        "tomas_random = tomas_por_sesion * sesiones\r\n",
        "\r\n",
        "# Número de actores a tener en cuenta\r\n",
        "actores = random.randint(4, 10)\r\n",
        "\r\n",
        "# Probabilidad de actuar en una toma.\r\n",
        "p = 0.2  # 20%\r\n",
        "\r\n",
        "# Generamos los costos.\r\n",
        "costos_random = ()\r\n",
        "for id in range(tomas_random):\r\n",
        "    toma = []\r\n",
        "    for actor in range(actores):\r\n",
        "        toma.append(int(random.random() < p))\r\n",
        "    # Nos aseguramos tener al menos 1 actor por toma.\r\n",
        "    if not sum(toma):\r\n",
        "        actor = random.randint(0, actores - 1)\r\n",
        "        toma[actor] = 1\r\n",
        "\r\n",
        "    costos_random += (toma,)\r\n",
        "\r\n",
        "print('Total de tomas:', tomas_random)\r\n",
        "print('Tomas por sesión:', tomas_por_sesion)\r\n",
        "print('Total de actores:', actores)\r\n",
        "print('Costes:')\r\n",
        "display(costos_random)"
      ],
      "execution_count": null,
      "outputs": [
        {
          "output_type": "stream",
          "text": [
            "Total de tomas: 16\n",
            "Tomas por sesión: 2\n",
            "Total de actores: 10\n",
            "Costes:\n"
          ],
          "name": "stdout"
        },
        {
          "output_type": "display_data",
          "data": {
            "text/plain": [
              "([0, 0, 0, 1, 1, 0, 0, 1, 0, 0],\n",
              " [0, 1, 0, 0, 0, 0, 0, 0, 1, 1],\n",
              " [0, 0, 0, 0, 0, 0, 1, 1, 0, 0],\n",
              " [1, 0, 1, 0, 0, 0, 0, 0, 0, 0],\n",
              " [0, 0, 0, 0, 0, 0, 0, 1, 0, 0],\n",
              " [0, 0, 0, 0, 0, 1, 0, 0, 0, 0],\n",
              " [0, 0, 0, 0, 0, 1, 1, 0, 0, 0],\n",
              " [0, 0, 0, 0, 0, 0, 1, 1, 0, 0],\n",
              " [0, 0, 0, 0, 0, 1, 0, 0, 0, 0],\n",
              " [0, 0, 0, 1, 0, 0, 0, 1, 0, 0],\n",
              " [0, 0, 1, 0, 1, 0, 0, 0, 1, 0],\n",
              " [1, 0, 0, 0, 0, 0, 1, 0, 0, 0],\n",
              " [0, 0, 0, 1, 0, 0, 0, 0, 0, 0],\n",
              " [0, 0, 0, 1, 0, 1, 1, 0, 0, 0],\n",
              " [1, 1, 0, 0, 0, 0, 0, 0, 0, 0],\n",
              " [0, 1, 0, 0, 0, 1, 0, 0, 0, 0])"
            ]
          },
          "metadata": {
            "tags": []
          }
        }
      ]
    },
    {
      "cell_type": "markdown",
      "metadata": {
        "id": "zy5ZROmjlGo1"
      },
      "source": [
        "* **Aplica el algoritmo al juego de datos generado**"
      ]
    },
    {
      "cell_type": "markdown",
      "metadata": {
        "id": "_Cmj-PVylMsa"
      },
      "source": [
        "Respuesta"
      ]
    },
    {
      "cell_type": "code",
      "metadata": {
        "id": "Jkx8GeiYlUz1",
        "colab": {
          "base_uri": "https://localhost:8080/"
        },
        "outputId": "8a09dcca-e641-441d-a69c-005f911fba9a"
      },
      "source": [
        "mejor_solucion_random = busqueda_con_recocido(costos_random,tomas_por_sesion,1000000,20000,10)"
      ],
      "execution_count": null,
      "outputs": [
        {
          "output_type": "stream",
          "text": [
            "Mejor solución aleatoria: (9, 0, 13, 6, 7, 11, 10, 3, 2, 4, 5, 8, 15, 12, 1, 14)\n",
            "         Costo: 23\n",
            "La mejor solución encontrada del recocido simulado es (9, 12, 13, 6, 0, 4, 11, 14, 15, 1, 8, 5, 3, 10, 2, 7)\n",
            "con un costo total de 22\n",
            "en 2292 iteraciones\n",
            "Mejor solución aleatoria: (1, 10, 0, 9, 14, 15, 4, 5, 11, 3, 8, 12, 7, 2, 6, 13)\n",
            "         Costo: 23\n",
            "La mejor solución encontrada del recocido simulado es (1, 10, 2, 7, 9, 4, 13, 6, 15, 14, 12, 0, 11, 3, 8, 5)\n",
            "con un costo total de 22\n",
            "en 2292 iteraciones\n",
            "Mejor solución aleatoria: (2, 11, 0, 10, 8, 5, 3, 14, 7, 4, 13, 6, 9, 12, 15, 1)\n",
            "         Costo: 23\n",
            "La mejor solución encontrada del recocido simulado es (2, 7, 5, 8, 12, 4, 9, 0, 10, 1, 13, 6, 3, 11, 15, 14)\n",
            "con un costo total de 22\n",
            "en 2292 iteraciones\n",
            "Mejor solución aleatoria: (14, 3, 0, 4, 10, 1, 8, 13, 15, 5, 9, 12, 7, 2, 6, 11)\n",
            "         Costo: 23\n",
            "La mejor solución encontrada del recocido simulado es (14, 15, 8, 5, 12, 9, 3, 11, 6, 13, 10, 1, 0, 4, 2, 7)\n",
            "con un costo total de 22\n",
            "en 2292 iteraciones\n",
            "Mejor solución aleatoria: (6, 13, 0, 4, 3, 10, 8, 5, 12, 9, 14, 11, 1, 15, 7, 2)\n",
            "         Costo: 22\n",
            "La mejor solución encontrada del recocido simulado es (6, 13, 10, 1, 0, 9, 15, 14, 3, 11, 2, 7, 8, 5, 4, 12)\n",
            "con un costo total de 22\n",
            "en 2292 iteraciones\n",
            "Mejor solución aleatoria: (8, 5, 2, 7, 15, 1, 6, 13, 10, 0, 11, 14, 4, 9, 3, 12)\n",
            "         Costo: 23\n",
            "La mejor solución encontrada del recocido simulado es (8, 5, 1, 10, 4, 9, 3, 11, 15, 14, 0, 12, 7, 2, 13, 6)\n",
            "con un costo total de 22\n",
            "en 2292 iteraciones\n",
            "Mejor solución aleatoria: (8, 13, 14, 1, 9, 0, 2, 7, 5, 15, 3, 4, 12, 10, 11, 6)\n",
            "         Costo: 24\n",
            "La mejor solución encontrada del recocido simulado es (8, 15, 2, 4, 11, 7, 10, 1, 3, 14, 13, 6, 0, 9, 5, 12)\n",
            "con un costo total de 23\n",
            "en 2292 iteraciones\n",
            "Mejor solución aleatoria: (7, 2, 12, 11, 8, 5, 14, 15, 10, 1, 13, 6, 3, 4, 0, 9)\n",
            "         Costo: 23\n",
            "La mejor solución encontrada del recocido simulado es (7, 2, 8, 5, 9, 0, 15, 4, 6, 13, 10, 3, 14, 1, 11, 12)\n",
            "con un costo total de 23\n",
            "en 2292 iteraciones\n",
            "Mejor solución aleatoria: (1, 10, 0, 9, 11, 12, 13, 6, 4, 3, 15, 14, 5, 8, 7, 2)\n",
            "         Costo: 23\n",
            "La mejor solución encontrada del recocido simulado es (1, 15, 10, 3, 0, 12, 6, 13, 14, 11, 2, 7, 8, 5, 4, 9)\n",
            "con un costo total de 22\n",
            "en 2292 iteraciones\n",
            "Mejor solución aleatoria: (10, 1, 14, 3, 2, 7, 15, 5, 8, 6, 13, 11, 9, 4, 12, 0)\n",
            "         Costo: 23\n",
            "La mejor solución encontrada del recocido simulado es (10, 1, 9, 0, 5, 8, 6, 13, 4, 12, 14, 15, 3, 11, 2, 7)\n",
            "con un costo total de 22\n",
            "en 2292 iteraciones\n",
            "La mejor solución encontrada de la búsqueda aleatoria con recocido, en 10repeticiones, es (9, 12, 13, 6, 0, 4, 11, 14, 15, 1, 8, 5, 3, 10, 2, 7)\n",
            "con un costo total de 22\n"
          ],
          "name": "stdout"
        }
      ]
    },
    {
      "cell_type": "markdown",
      "metadata": {
        "id": "kAkDPUyRtYyH"
      },
      "source": [
        "**Describe brevemente las lineas de como crees que es posible avanzar en el estudio del problema.**\r\n",
        "\r\n",
        "Ten en cuenta incluso posibles variaciones del problema y/o variaciones al alza del tamaño"
      ]
    },
    {
      "cell_type": "markdown",
      "metadata": {
        "id": "4XUgPrHLoF3G"
      },
      "source": [
        "*Respuesta*\r\n",
        "\r\n",
        "Como se describió al principio, este problema es un problema de estudio permanente, considerado NP-difícil.  No sólo se han estudiado diversos tipos de ramificación y poda, mejorando las funciones de estimación de costo, sino también alternativas metaheurísticas para abordar formas más óptimas de llegar a la solución con mejor costo.\r\n",
        "\r\n",
        "* El algoritmo propuesto ha podido encontrar **soluciones con costo igual a 27**, en el 70% de las ejecuciones (comprobado de forma empírica, para 30 ejecuciones).\r\n",
        "\r\n",
        "* Para el presente problema, podría contemplarse la optimización del código en Python para poder hacer una búsqueda más completa. También se contemplaría hacer una librería de mejores soluciones, para que no las vuelva a encontrar (búsqueda Tabú), y volver a realizar el procedimiento N veces más, para al final ver si mejoró. Además, podría anclarse el primer valor cada solución y generar soluciones aleatorias para el resto de los valores, forzando a diversificar al inicio.\r\n",
        "\r\n",
        "* Al problema se le puede **sumar complejidad**, teniendo en cuenta diferentes salarios diarios de los actores, o la duración del rodaje de cada escena con distinto valor. La mayoría de los estudios consideran el costo del actor, sin embargo, una pequeña cantidad de estudios no solo consideran este costo, sino también los costos operativos de todo el staff. Los nuevos enfoques incluso contemplan cambios de set, y apelan a búsquedas Tabú, algoritmos de enjambre de particulas o algoritmos genéticos para llegar a una solución en tiempo computacional.\r\n",
        "\r\n",
        "* Para pocas escenas, menos de 10, se puede pensar en métodos voraces. A mayor tamaño del problema, incluso para el problema de este ejemplo, soluciones optimizadas de ramificación y poda pueden ser interesantes. Ahora bien, a medida que aumenta la complejidad del problema, incluyendo más restricciones o variables, la posibilidad de utilizar algoritmos de técnicas metaheurísticas se torna mucho más atractica frente a algoritmos de ramificación y poda optimizados, por su rapidez en encontrar soluciones lo suficientemente óptimas como para ser utilizadas en la práctica."
      ]
    },
    {
      "cell_type": "markdown",
      "metadata": {
        "id": "eTFWUJQrtGcv"
      },
      "source": [
        "Enumera las referencias que has utilizado(si ha sido necesario) para llevar a cabo el trabajo"
      ]
    },
    {
      "cell_type": "markdown",
      "metadata": {
        "id": "IE0uZmo-tZu-"
      },
      "source": [
        "*Referencias*\r\n",
        "\r\n",
        "1. \"Yulian Liu, Qiuji Sun, Xiaotian Zhang, Yiwei Wu, \"Research on the Scheduling Problem of Movie Scenes\", Discrete Dynamics in Nature and Society, vol. 2019, Article ID 3737105, 8 pages, 2019. https://doi.org/10.1155/2019/3737105\". [Link](https://www.hindawi.com/journals/ddns/2019/3737105/)\r\n",
        "2. \"Long, Xiaoqing & Jinxing, Zhao. (2020). Scheduling Problem of Movie Scenes Based on Three Meta-Heuristic Algorithms. IEEE Access. PP. 1-1. 10.1109/ACCESS.2020.2982664.\" [Link](https://www.researchgate.net/publication/340109703_Scheduling_Problem_of_Movie_Scenes_Based_on_Three_Meta-Heuristic_Algorithms)\r\n",
        "3. Manual de la asignatura \"Algoritmos de Optimización\"."
      ]
    },
    {
      "cell_type": "code",
      "metadata": {
        "id": "ZmiX5x6GA-pX",
        "colab": {
          "base_uri": "https://localhost:8080/"
        },
        "outputId": "6fabaeec-016b-4c95-94a8-b5721daca72a"
      },
      "source": [
        "#ANEXO - Tests (solo muestran el funcionamiento de los algoritmos internos)\r\n",
        "sol_prueba=generar_solucion(costos)\r\n",
        "sol_test=(0, 1, 5, 6, 8, 12, 13, 16, 17, 18, 22, 23, 2, 3, 4, 14, 10, 19, 7, 15, 11, 20, 21, 24, 9, 25, 26, 27, 28, 29)\r\n",
        "print(calcular_costo(sol_prueba,max_tomas,costos))\r\n",
        "calcular_costo(sol_test,max_tomas,costos)"
      ],
      "execution_count": 18,
      "outputs": [
        {
          "output_type": "stream",
          "text": [
            "40\n"
          ],
          "name": "stdout"
        },
        {
          "output_type": "execute_result",
          "data": {
            "text/plain": [
              "29"
            ]
          },
          "metadata": {
            "tags": []
          },
          "execution_count": 18
        }
      ]
    },
    {
      "cell_type": "code",
      "metadata": {
        "id": "FrL9pQmrwz4b",
        "colab": {
          "base_uri": "https://localhost:8080/"
        },
        "outputId": "dd9a2182-795b-424c-8de9-f9e3f57e7de8"
      },
      "source": [
        "#ANEXO - DESCRIPCIÓN DE LOS DATOS DEL PROBLEMA\r\n",
        "actoresxtoma = [sum(i) for i in costos]\r\n",
        "print(actoresxtoma)\r\n",
        "\r\n",
        "tomasactores=[]\r\n",
        "for n in range(10):\r\n",
        "  tomasactores.append(i[n] for i in costos)\r\n",
        "\r\n",
        "tomasxactor=[]\r\n",
        "for n in range(10):\r\n",
        "  tomasxactor.append(sum(tomasactores[n]))\r\n",
        "\r\n",
        "print(tomasxactor)\r\n",
        "\r\n",
        "#Se ve que hay tomas con más actores que otras, pero ninguna tiene un solo actor\r\n",
        "#Los primeros actores están en muchas más tomas.\r\n"
      ],
      "execution_count": 19,
      "outputs": [
        {
          "output_type": "stream",
          "text": [
            "[5, 3, 3, 4, 3, 4, 4, 3, 3, 4, 5, 5, 3, 3, 3, 2, 2, 2, 2, 4, 2, 4, 2, 2, 4, 4, 2, 2, 3, 2]\n",
            "[22, 14, 13, 15, 11, 8, 3, 4, 2, 2]\n"
          ],
          "name": "stdout"
        }
      ]
    }
  ]
}